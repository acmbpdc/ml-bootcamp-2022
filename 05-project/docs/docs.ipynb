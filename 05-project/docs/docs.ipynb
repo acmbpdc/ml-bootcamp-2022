{
  "nbformat": 4,
  "nbformat_minor": 0,
  "metadata": {
    "colab": {
      "name": "docs.ipynb",
      "provenance": [],
      "collapsed_sections": []
    },
    "kernelspec": {
      "name": "python3",
      "display_name": "Python 3"
    },
    "language_info": {
      "name": "python"
    }
  },
  "cells": [
    {
      "cell_type": "markdown",
      "source": [
        "# 05: Project"
      ],
      "metadata": {
        "id": "uIp57-j0ABQc"
      }
    },
    {
      "cell_type": "markdown",
      "source": [
        "![](https://www.scdn.co/i/_global/open-graph-default.png)"
      ],
      "metadata": {
        "id": "DD8EcBQ0Q9tR"
      }
    },
    {
      "cell_type": "markdown",
      "source": [
        "While brainstorming about what project could we work upon that would allow us to learn and revise through the concepts we have learned throughout the bootcamp, and at the same time make it really cool, we came up with the idea of creating a Machine Learning Model based on data from Spotify!\n",
        "\n",
        "Through this session (*the last one*😔), we'll be creating k-NN based ML model which allow us to classify songs into particular playlists."
      ],
      "metadata": {
        "id": "-xcEo9bAAFI7"
      }
    },
    {
      "cell_type": "markdown",
      "source": [
        "Okay enough talk, let's get started! 🎵\n"
      ],
      "metadata": {
        "id": "tu9FYXN-AHva"
      }
    },
    {
      "cell_type": "markdown",
      "source": [
        "## 1: Accessing Spotify Credentials"
      ],
      "metadata": {
        "id": "2B_Rrj_EAKlj"
      }
    },
    {
      "cell_type": "markdown",
      "source": [
        "Before we get started, we'll need a source for our data for this project. As mentioned before, we'll be fetching the data we need, from Spotify itself!\n",
        "\n",
        "To do so, first [create](https://www.spotify.com/ae-en/signup) a Spotify account.\n",
        "\n",
        "Once done creating an account, head on to \"[Spotify for Developers](https://developer.spotify.com/)\", and navigate to \"[Dashboard](https://developer.spotify.com/dashboard/login)\".\n",
        "\n",
        "After opening up the *Dashboard*, click on `Create an App`, with which you'll get `Client ID` and `Client Secret` (*which will be used in the code we'll be writing*)."
      ],
      "metadata": {
        "id": "SzHDlMWhSq9k"
      }
    },
    {
      "cell_type": "markdown",
      "source": [
        "### Get Spotify Client Information"
      ],
      "metadata": {
        "id": "zktsTE_DBSkV"
      }
    },
    {
      "cell_type": "code",
      "source": [
        "!pip install spotipy"
      ],
      "metadata": {
        "colab": {
          "base_uri": "https://localhost:8080/"
        },
        "id": "mgo7NJa3Cizi",
        "outputId": "b18bc8e1-30d7-451a-dc2d-b4e16d8aa262"
      },
      "execution_count": 1,
      "outputs": [
        {
          "output_type": "stream",
          "name": "stdout",
          "text": [
            "Requirement already satisfied: spotipy in /usr/local/lib/python3.7/dist-packages (2.19.0)\n",
            "Requirement already satisfied: urllib3>=1.26.0 in /usr/local/lib/python3.7/dist-packages (from spotipy) (1.26.9)\n",
            "Requirement already satisfied: six>=1.15.0 in /usr/local/lib/python3.7/dist-packages (from spotipy) (1.15.0)\n",
            "Requirement already satisfied: requests>=2.25.0 in /usr/local/lib/python3.7/dist-packages (from spotipy) (2.27.1)\n",
            "Requirement already satisfied: charset-normalizer~=2.0.0 in /usr/local/lib/python3.7/dist-packages (from requests>=2.25.0->spotipy) (2.0.12)\n",
            "Requirement already satisfied: certifi>=2017.4.17 in /usr/local/lib/python3.7/dist-packages (from requests>=2.25.0->spotipy) (2021.10.8)\n",
            "Requirement already satisfied: idna<4,>=2.5 in /usr/local/lib/python3.7/dist-packages (from requests>=2.25.0->spotipy) (2.10)\n"
          ]
        }
      ]
    },
    {
      "cell_type": "code",
      "source": [
        "import spotipy\n",
        "import pandas as pd\n",
        "from spotipy.oauth2 import SpotifyClientCredentials\n",
        "# client_id = \"<ENTER CLIENT ID>\"\n",
        "client_id = '93afa71bdab647d3a971688255f7fcaf'\n",
        "# client_secret = \"<ENTER CLIENT SECRET\"\n",
        "client_secret = '0f834b4581174c849c5a4eb962c74ac8'\n",
        "client_credentials_manager = SpotifyClientCredentials('93afa71bdab647d3a971688255f7fcaf', '0f834b4581174c849c5a4eb962c74ac8')\n",
        "# client_credentials_manager = SpotifyClientCredentials('<ENTER SPOTIFY USERNAME>', '<ENTER CLIENT SECRET>')\n",
        "sp = spotipy.Spotify(client_credentials_manager = client_credentials_manager)"
      ],
      "metadata": {
        "id": "ZSGjPeGqBHBa"
      },
      "execution_count": 2,
      "outputs": []
    },
    {
      "cell_type": "markdown",
      "source": [
        "*Make sure to enter `Client ID`, `Client Secret`, and `Username` at the positions mentioned above in the code.*"
      ],
      "metadata": {
        "id": "IIliB6VdUZMV"
      }
    },
    {
      "cell_type": "markdown",
      "source": [
        "### Download playlists and convert into `CSV`"
      ],
      "metadata": {
        "id": "GHRWU6qU_8Qn"
      }
    },
    {
      "cell_type": "code",
      "source": [
        "id_test = sp.user_playlist_tracks('317d3qqu6wx3z2l444u2vde6onde', 'spotify:playlist:37i9dQZF1DXdPec7aLTmlC')['items'][0]['track']['id']\n",
        "# id_test = sp.user_playlist_tracks('<ENTER SPOTIFY USERNAME>', '<ENTER SPOTIFY URI>')['items'][0]['track']['id']\n",
        "columns = ['artist', 'track']\n",
        "list(map(lambda x: columns.append(x), list(sp.audio_features(id_test)[0].keys())))\n",
        "\n",
        "playlist_tracks = pd.DataFrame(columns = columns, index = range(0, 200))\n",
        "playlist_tracks.head()"
      ],
      "metadata": {
        "colab": {
          "base_uri": "https://localhost:8080/",
          "height": 206
        },
        "id": "wOC8b6RNBmfL",
        "outputId": "b327c7e9-72fb-4020-a9e9-7b44755c57e9"
      },
      "execution_count": 3,
      "outputs": [
        {
          "output_type": "execute_result",
          "data": {
            "text/plain": [
              "  artist track danceability energy  key loudness mode speechiness  \\\n",
              "0    NaN   NaN          NaN    NaN  NaN      NaN  NaN         NaN   \n",
              "1    NaN   NaN          NaN    NaN  NaN      NaN  NaN         NaN   \n",
              "2    NaN   NaN          NaN    NaN  NaN      NaN  NaN         NaN   \n",
              "3    NaN   NaN          NaN    NaN  NaN      NaN  NaN         NaN   \n",
              "4    NaN   NaN          NaN    NaN  NaN      NaN  NaN         NaN   \n",
              "\n",
              "  acousticness instrumentalness liveness valence tempo type   id  uri  \\\n",
              "0          NaN              NaN      NaN     NaN   NaN  NaN  NaN  NaN   \n",
              "1          NaN              NaN      NaN     NaN   NaN  NaN  NaN  NaN   \n",
              "2          NaN              NaN      NaN     NaN   NaN  NaN  NaN  NaN   \n",
              "3          NaN              NaN      NaN     NaN   NaN  NaN  NaN  NaN   \n",
              "4          NaN              NaN      NaN     NaN   NaN  NaN  NaN  NaN   \n",
              "\n",
              "  track_href analysis_url duration_ms time_signature  \n",
              "0        NaN          NaN         NaN            NaN  \n",
              "1        NaN          NaN         NaN            NaN  \n",
              "2        NaN          NaN         NaN            NaN  \n",
              "3        NaN          NaN         NaN            NaN  \n",
              "4        NaN          NaN         NaN            NaN  "
            ],
            "text/html": [
              "\n",
              "  <div id=\"df-cde66025-ed73-451f-b260-d8188d199a00\">\n",
              "    <div class=\"colab-df-container\">\n",
              "      <div>\n",
              "<style scoped>\n",
              "    .dataframe tbody tr th:only-of-type {\n",
              "        vertical-align: middle;\n",
              "    }\n",
              "\n",
              "    .dataframe tbody tr th {\n",
              "        vertical-align: top;\n",
              "    }\n",
              "\n",
              "    .dataframe thead th {\n",
              "        text-align: right;\n",
              "    }\n",
              "</style>\n",
              "<table border=\"1\" class=\"dataframe\">\n",
              "  <thead>\n",
              "    <tr style=\"text-align: right;\">\n",
              "      <th></th>\n",
              "      <th>artist</th>\n",
              "      <th>track</th>\n",
              "      <th>danceability</th>\n",
              "      <th>energy</th>\n",
              "      <th>key</th>\n",
              "      <th>loudness</th>\n",
              "      <th>mode</th>\n",
              "      <th>speechiness</th>\n",
              "      <th>acousticness</th>\n",
              "      <th>instrumentalness</th>\n",
              "      <th>liveness</th>\n",
              "      <th>valence</th>\n",
              "      <th>tempo</th>\n",
              "      <th>type</th>\n",
              "      <th>id</th>\n",
              "      <th>uri</th>\n",
              "      <th>track_href</th>\n",
              "      <th>analysis_url</th>\n",
              "      <th>duration_ms</th>\n",
              "      <th>time_signature</th>\n",
              "    </tr>\n",
              "  </thead>\n",
              "  <tbody>\n",
              "    <tr>\n",
              "      <th>0</th>\n",
              "      <td>NaN</td>\n",
              "      <td>NaN</td>\n",
              "      <td>NaN</td>\n",
              "      <td>NaN</td>\n",
              "      <td>NaN</td>\n",
              "      <td>NaN</td>\n",
              "      <td>NaN</td>\n",
              "      <td>NaN</td>\n",
              "      <td>NaN</td>\n",
              "      <td>NaN</td>\n",
              "      <td>NaN</td>\n",
              "      <td>NaN</td>\n",
              "      <td>NaN</td>\n",
              "      <td>NaN</td>\n",
              "      <td>NaN</td>\n",
              "      <td>NaN</td>\n",
              "      <td>NaN</td>\n",
              "      <td>NaN</td>\n",
              "      <td>NaN</td>\n",
              "      <td>NaN</td>\n",
              "    </tr>\n",
              "    <tr>\n",
              "      <th>1</th>\n",
              "      <td>NaN</td>\n",
              "      <td>NaN</td>\n",
              "      <td>NaN</td>\n",
              "      <td>NaN</td>\n",
              "      <td>NaN</td>\n",
              "      <td>NaN</td>\n",
              "      <td>NaN</td>\n",
              "      <td>NaN</td>\n",
              "      <td>NaN</td>\n",
              "      <td>NaN</td>\n",
              "      <td>NaN</td>\n",
              "      <td>NaN</td>\n",
              "      <td>NaN</td>\n",
              "      <td>NaN</td>\n",
              "      <td>NaN</td>\n",
              "      <td>NaN</td>\n",
              "      <td>NaN</td>\n",
              "      <td>NaN</td>\n",
              "      <td>NaN</td>\n",
              "      <td>NaN</td>\n",
              "    </tr>\n",
              "    <tr>\n",
              "      <th>2</th>\n",
              "      <td>NaN</td>\n",
              "      <td>NaN</td>\n",
              "      <td>NaN</td>\n",
              "      <td>NaN</td>\n",
              "      <td>NaN</td>\n",
              "      <td>NaN</td>\n",
              "      <td>NaN</td>\n",
              "      <td>NaN</td>\n",
              "      <td>NaN</td>\n",
              "      <td>NaN</td>\n",
              "      <td>NaN</td>\n",
              "      <td>NaN</td>\n",
              "      <td>NaN</td>\n",
              "      <td>NaN</td>\n",
              "      <td>NaN</td>\n",
              "      <td>NaN</td>\n",
              "      <td>NaN</td>\n",
              "      <td>NaN</td>\n",
              "      <td>NaN</td>\n",
              "      <td>NaN</td>\n",
              "    </tr>\n",
              "    <tr>\n",
              "      <th>3</th>\n",
              "      <td>NaN</td>\n",
              "      <td>NaN</td>\n",
              "      <td>NaN</td>\n",
              "      <td>NaN</td>\n",
              "      <td>NaN</td>\n",
              "      <td>NaN</td>\n",
              "      <td>NaN</td>\n",
              "      <td>NaN</td>\n",
              "      <td>NaN</td>\n",
              "      <td>NaN</td>\n",
              "      <td>NaN</td>\n",
              "      <td>NaN</td>\n",
              "      <td>NaN</td>\n",
              "      <td>NaN</td>\n",
              "      <td>NaN</td>\n",
              "      <td>NaN</td>\n",
              "      <td>NaN</td>\n",
              "      <td>NaN</td>\n",
              "      <td>NaN</td>\n",
              "      <td>NaN</td>\n",
              "    </tr>\n",
              "    <tr>\n",
              "      <th>4</th>\n",
              "      <td>NaN</td>\n",
              "      <td>NaN</td>\n",
              "      <td>NaN</td>\n",
              "      <td>NaN</td>\n",
              "      <td>NaN</td>\n",
              "      <td>NaN</td>\n",
              "      <td>NaN</td>\n",
              "      <td>NaN</td>\n",
              "      <td>NaN</td>\n",
              "      <td>NaN</td>\n",
              "      <td>NaN</td>\n",
              "      <td>NaN</td>\n",
              "      <td>NaN</td>\n",
              "      <td>NaN</td>\n",
              "      <td>NaN</td>\n",
              "      <td>NaN</td>\n",
              "      <td>NaN</td>\n",
              "      <td>NaN</td>\n",
              "      <td>NaN</td>\n",
              "      <td>NaN</td>\n",
              "    </tr>\n",
              "  </tbody>\n",
              "</table>\n",
              "</div>\n",
              "      <button class=\"colab-df-convert\" onclick=\"convertToInteractive('df-cde66025-ed73-451f-b260-d8188d199a00')\"\n",
              "              title=\"Convert this dataframe to an interactive table.\"\n",
              "              style=\"display:none;\">\n",
              "        \n",
              "  <svg xmlns=\"http://www.w3.org/2000/svg\" height=\"24px\"viewBox=\"0 0 24 24\"\n",
              "       width=\"24px\">\n",
              "    <path d=\"M0 0h24v24H0V0z\" fill=\"none\"/>\n",
              "    <path d=\"M18.56 5.44l.94 2.06.94-2.06 2.06-.94-2.06-.94-.94-2.06-.94 2.06-2.06.94zm-11 1L8.5 8.5l.94-2.06 2.06-.94-2.06-.94L8.5 2.5l-.94 2.06-2.06.94zm10 10l.94 2.06.94-2.06 2.06-.94-2.06-.94-.94-2.06-.94 2.06-2.06.94z\"/><path d=\"M17.41 7.96l-1.37-1.37c-.4-.4-.92-.59-1.43-.59-.52 0-1.04.2-1.43.59L10.3 9.45l-7.72 7.72c-.78.78-.78 2.05 0 2.83L4 21.41c.39.39.9.59 1.41.59.51 0 1.02-.2 1.41-.59l7.78-7.78 2.81-2.81c.8-.78.8-2.07 0-2.86zM5.41 20L4 18.59l7.72-7.72 1.47 1.35L5.41 20z\"/>\n",
              "  </svg>\n",
              "      </button>\n",
              "      \n",
              "  <style>\n",
              "    .colab-df-container {\n",
              "      display:flex;\n",
              "      flex-wrap:wrap;\n",
              "      gap: 12px;\n",
              "    }\n",
              "\n",
              "    .colab-df-convert {\n",
              "      background-color: #E8F0FE;\n",
              "      border: none;\n",
              "      border-radius: 50%;\n",
              "      cursor: pointer;\n",
              "      display: none;\n",
              "      fill: #1967D2;\n",
              "      height: 32px;\n",
              "      padding: 0 0 0 0;\n",
              "      width: 32px;\n",
              "    }\n",
              "\n",
              "    .colab-df-convert:hover {\n",
              "      background-color: #E2EBFA;\n",
              "      box-shadow: 0px 1px 2px rgba(60, 64, 67, 0.3), 0px 1px 3px 1px rgba(60, 64, 67, 0.15);\n",
              "      fill: #174EA6;\n",
              "    }\n",
              "\n",
              "    [theme=dark] .colab-df-convert {\n",
              "      background-color: #3B4455;\n",
              "      fill: #D2E3FC;\n",
              "    }\n",
              "\n",
              "    [theme=dark] .colab-df-convert:hover {\n",
              "      background-color: #434B5C;\n",
              "      box-shadow: 0px 1px 3px 1px rgba(0, 0, 0, 0.15);\n",
              "      filter: drop-shadow(0px 1px 2px rgba(0, 0, 0, 0.3));\n",
              "      fill: #FFFFFF;\n",
              "    }\n",
              "  </style>\n",
              "\n",
              "      <script>\n",
              "        const buttonEl =\n",
              "          document.querySelector('#df-cde66025-ed73-451f-b260-d8188d199a00 button.colab-df-convert');\n",
              "        buttonEl.style.display =\n",
              "          google.colab.kernel.accessAllowed ? 'block' : 'none';\n",
              "\n",
              "        async function convertToInteractive(key) {\n",
              "          const element = document.querySelector('#df-cde66025-ed73-451f-b260-d8188d199a00');\n",
              "          const dataTable =\n",
              "            await google.colab.kernel.invokeFunction('convertToInteractive',\n",
              "                                                     [key], {});\n",
              "          if (!dataTable) return;\n",
              "\n",
              "          const docLinkHtml = 'Like what you see? Visit the ' +\n",
              "            '<a target=\"_blank\" href=https://colab.research.google.com/notebooks/data_table.ipynb>data table notebook</a>'\n",
              "            + ' to learn more about interactive tables.';\n",
              "          element.innerHTML = '';\n",
              "          dataTable['output_type'] = 'display_data';\n",
              "          await google.colab.output.renderOutput(dataTable, element);\n",
              "          const docLink = document.createElement('div');\n",
              "          docLink.innerHTML = docLinkHtml;\n",
              "          element.appendChild(docLink);\n",
              "        }\n",
              "      </script>\n",
              "    </div>\n",
              "  </div>\n",
              "  "
            ]
          },
          "metadata": {},
          "execution_count": 3
        }
      ]
    },
    {
      "cell_type": "code",
      "source": [
        "# Insert Spotify URIs into the list below to create a dataframe from the playlists\n",
        "playlist_ids = ['spotify:playlist:1llkez7kiZtBeOw5UjFlJq', 'spotify:playlist:1h90L3LP8kAJ7KGjCV2Xfd']\n",
        "row_counter = 0\n",
        "\n",
        "for playlist_id in playlist_ids:\n",
        "    for track in sp.user_playlist_tracks('317d3qqu6wx3z2l444u2vde6onde', playlist_id)['items']:\n",
        "        current_id = track['track']['id']\n",
        "        current_row = [track['track']['artists'][0]['name'], track['track']['name']]\n",
        "        (list(map(lambda x: current_row.append(x), list(sp.audio_features(current_id)[0].values()))))\n",
        "        playlist_tracks.iloc[row_counter] = current_row\n",
        "        row_counter += 1\n"
      ],
      "metadata": {
        "collapsed": true,
        "id": "zFoS-v1JBpkD"
      },
      "execution_count": 4,
      "outputs": []
    },
    {
      "cell_type": "code",
      "source": [
        "playlist_tracks.head()"
      ],
      "metadata": {
        "colab": {
          "base_uri": "https://localhost:8080/",
          "height": 444
        },
        "id": "xwAcugmlCzQp",
        "outputId": "893b7d3e-af67-4a62-99ff-087d67d7aeb5"
      },
      "execution_count": 5,
      "outputs": [
        {
          "output_type": "execute_result",
          "data": {
            "text/plain": [
              "                      artist                          track danceability  \\\n",
              "0        Katrina & The Waves            Walking On Sunshine        0.596   \n",
              "1              WALK THE MOON              Shut Up and Dance        0.578   \n",
              "2  The Edwin Hawkins Singers                   Oh Happy Day        0.321   \n",
              "3               Andy Grammer  Good To Be Alive (Hallelujah)        0.784   \n",
              "4           American Authors            Best Day Of My Life        0.672   \n",
              "\n",
              "  energy key loudness mode speechiness acousticness instrumentalness liveness  \\\n",
              "0  0.869  10   -11.97    1       0.037       0.0116            0.173   0.0678   \n",
              "1  0.866   1   -3.804    1      0.0619      0.00701                0    0.257   \n",
              "2  0.462   8  -10.711    1      0.0346       0.0961                0    0.102   \n",
              "3  0.882   5   -3.646    1      0.0451       0.0377                0     0.65   \n",
              "4  0.901   2   -2.415    1      0.0353       0.0545         0.000285   0.0792   \n",
              "\n",
              "  valence    tempo            type                      id  \\\n",
              "0   0.944  109.902  audio_features  05wIrZSwuaVWhcv5FfqeH0   \n",
              "1   0.619  128.038  audio_features  4kbj5MwxO1bq9wjT5g9HaA   \n",
              "2   0.457  116.782  audio_features  34yIb7hw5SuR80au1BHTtt   \n",
              "3   0.699  120.017  audio_features  1fMEUGs5CvRv0VrcJlQITt   \n",
              "4   0.507   99.989  audio_features  5k31cAfP8yymw8v0AYQIjr   \n",
              "\n",
              "                                    uri  \\\n",
              "0  spotify:track:05wIrZSwuaVWhcv5FfqeH0   \n",
              "1  spotify:track:4kbj5MwxO1bq9wjT5g9HaA   \n",
              "2  spotify:track:34yIb7hw5SuR80au1BHTtt   \n",
              "3  spotify:track:1fMEUGs5CvRv0VrcJlQITt   \n",
              "4  spotify:track:5k31cAfP8yymw8v0AYQIjr   \n",
              "\n",
              "                                          track_href  \\\n",
              "0  https://api.spotify.com/v1/tracks/05wIrZSwuaVW...   \n",
              "1  https://api.spotify.com/v1/tracks/4kbj5MwxO1bq...   \n",
              "2  https://api.spotify.com/v1/tracks/34yIb7hw5SuR...   \n",
              "3  https://api.spotify.com/v1/tracks/1fMEUGs5CvRv...   \n",
              "4  https://api.spotify.com/v1/tracks/5k31cAfP8yym...   \n",
              "\n",
              "                                        analysis_url duration_ms  \\\n",
              "0  https://api.spotify.com/v1/audio-analysis/05wI...      238733   \n",
              "1  https://api.spotify.com/v1/audio-analysis/4kbj...      199080   \n",
              "2  https://api.spotify.com/v1/audio-analysis/34yI...      308600   \n",
              "3  https://api.spotify.com/v1/audio-analysis/1fME...      189870   \n",
              "4  https://api.spotify.com/v1/audio-analysis/5k31...      194000   \n",
              "\n",
              "  time_signature  \n",
              "0              4  \n",
              "1              4  \n",
              "2              4  \n",
              "3              4  \n",
              "4              4  "
            ],
            "text/html": [
              "\n",
              "  <div id=\"df-152bce75-66af-46b9-91d9-51f2ba3b00d5\">\n",
              "    <div class=\"colab-df-container\">\n",
              "      <div>\n",
              "<style scoped>\n",
              "    .dataframe tbody tr th:only-of-type {\n",
              "        vertical-align: middle;\n",
              "    }\n",
              "\n",
              "    .dataframe tbody tr th {\n",
              "        vertical-align: top;\n",
              "    }\n",
              "\n",
              "    .dataframe thead th {\n",
              "        text-align: right;\n",
              "    }\n",
              "</style>\n",
              "<table border=\"1\" class=\"dataframe\">\n",
              "  <thead>\n",
              "    <tr style=\"text-align: right;\">\n",
              "      <th></th>\n",
              "      <th>artist</th>\n",
              "      <th>track</th>\n",
              "      <th>danceability</th>\n",
              "      <th>energy</th>\n",
              "      <th>key</th>\n",
              "      <th>loudness</th>\n",
              "      <th>mode</th>\n",
              "      <th>speechiness</th>\n",
              "      <th>acousticness</th>\n",
              "      <th>instrumentalness</th>\n",
              "      <th>liveness</th>\n",
              "      <th>valence</th>\n",
              "      <th>tempo</th>\n",
              "      <th>type</th>\n",
              "      <th>id</th>\n",
              "      <th>uri</th>\n",
              "      <th>track_href</th>\n",
              "      <th>analysis_url</th>\n",
              "      <th>duration_ms</th>\n",
              "      <th>time_signature</th>\n",
              "    </tr>\n",
              "  </thead>\n",
              "  <tbody>\n",
              "    <tr>\n",
              "      <th>0</th>\n",
              "      <td>Katrina &amp; The Waves</td>\n",
              "      <td>Walking On Sunshine</td>\n",
              "      <td>0.596</td>\n",
              "      <td>0.869</td>\n",
              "      <td>10</td>\n",
              "      <td>-11.97</td>\n",
              "      <td>1</td>\n",
              "      <td>0.037</td>\n",
              "      <td>0.0116</td>\n",
              "      <td>0.173</td>\n",
              "      <td>0.0678</td>\n",
              "      <td>0.944</td>\n",
              "      <td>109.902</td>\n",
              "      <td>audio_features</td>\n",
              "      <td>05wIrZSwuaVWhcv5FfqeH0</td>\n",
              "      <td>spotify:track:05wIrZSwuaVWhcv5FfqeH0</td>\n",
              "      <td>https://api.spotify.com/v1/tracks/05wIrZSwuaVW...</td>\n",
              "      <td>https://api.spotify.com/v1/audio-analysis/05wI...</td>\n",
              "      <td>238733</td>\n",
              "      <td>4</td>\n",
              "    </tr>\n",
              "    <tr>\n",
              "      <th>1</th>\n",
              "      <td>WALK THE MOON</td>\n",
              "      <td>Shut Up and Dance</td>\n",
              "      <td>0.578</td>\n",
              "      <td>0.866</td>\n",
              "      <td>1</td>\n",
              "      <td>-3.804</td>\n",
              "      <td>1</td>\n",
              "      <td>0.0619</td>\n",
              "      <td>0.00701</td>\n",
              "      <td>0</td>\n",
              "      <td>0.257</td>\n",
              "      <td>0.619</td>\n",
              "      <td>128.038</td>\n",
              "      <td>audio_features</td>\n",
              "      <td>4kbj5MwxO1bq9wjT5g9HaA</td>\n",
              "      <td>spotify:track:4kbj5MwxO1bq9wjT5g9HaA</td>\n",
              "      <td>https://api.spotify.com/v1/tracks/4kbj5MwxO1bq...</td>\n",
              "      <td>https://api.spotify.com/v1/audio-analysis/4kbj...</td>\n",
              "      <td>199080</td>\n",
              "      <td>4</td>\n",
              "    </tr>\n",
              "    <tr>\n",
              "      <th>2</th>\n",
              "      <td>The Edwin Hawkins Singers</td>\n",
              "      <td>Oh Happy Day</td>\n",
              "      <td>0.321</td>\n",
              "      <td>0.462</td>\n",
              "      <td>8</td>\n",
              "      <td>-10.711</td>\n",
              "      <td>1</td>\n",
              "      <td>0.0346</td>\n",
              "      <td>0.0961</td>\n",
              "      <td>0</td>\n",
              "      <td>0.102</td>\n",
              "      <td>0.457</td>\n",
              "      <td>116.782</td>\n",
              "      <td>audio_features</td>\n",
              "      <td>34yIb7hw5SuR80au1BHTtt</td>\n",
              "      <td>spotify:track:34yIb7hw5SuR80au1BHTtt</td>\n",
              "      <td>https://api.spotify.com/v1/tracks/34yIb7hw5SuR...</td>\n",
              "      <td>https://api.spotify.com/v1/audio-analysis/34yI...</td>\n",
              "      <td>308600</td>\n",
              "      <td>4</td>\n",
              "    </tr>\n",
              "    <tr>\n",
              "      <th>3</th>\n",
              "      <td>Andy Grammer</td>\n",
              "      <td>Good To Be Alive (Hallelujah)</td>\n",
              "      <td>0.784</td>\n",
              "      <td>0.882</td>\n",
              "      <td>5</td>\n",
              "      <td>-3.646</td>\n",
              "      <td>1</td>\n",
              "      <td>0.0451</td>\n",
              "      <td>0.0377</td>\n",
              "      <td>0</td>\n",
              "      <td>0.65</td>\n",
              "      <td>0.699</td>\n",
              "      <td>120.017</td>\n",
              "      <td>audio_features</td>\n",
              "      <td>1fMEUGs5CvRv0VrcJlQITt</td>\n",
              "      <td>spotify:track:1fMEUGs5CvRv0VrcJlQITt</td>\n",
              "      <td>https://api.spotify.com/v1/tracks/1fMEUGs5CvRv...</td>\n",
              "      <td>https://api.spotify.com/v1/audio-analysis/1fME...</td>\n",
              "      <td>189870</td>\n",
              "      <td>4</td>\n",
              "    </tr>\n",
              "    <tr>\n",
              "      <th>4</th>\n",
              "      <td>American Authors</td>\n",
              "      <td>Best Day Of My Life</td>\n",
              "      <td>0.672</td>\n",
              "      <td>0.901</td>\n",
              "      <td>2</td>\n",
              "      <td>-2.415</td>\n",
              "      <td>1</td>\n",
              "      <td>0.0353</td>\n",
              "      <td>0.0545</td>\n",
              "      <td>0.000285</td>\n",
              "      <td>0.0792</td>\n",
              "      <td>0.507</td>\n",
              "      <td>99.989</td>\n",
              "      <td>audio_features</td>\n",
              "      <td>5k31cAfP8yymw8v0AYQIjr</td>\n",
              "      <td>spotify:track:5k31cAfP8yymw8v0AYQIjr</td>\n",
              "      <td>https://api.spotify.com/v1/tracks/5k31cAfP8yym...</td>\n",
              "      <td>https://api.spotify.com/v1/audio-analysis/5k31...</td>\n",
              "      <td>194000</td>\n",
              "      <td>4</td>\n",
              "    </tr>\n",
              "  </tbody>\n",
              "</table>\n",
              "</div>\n",
              "      <button class=\"colab-df-convert\" onclick=\"convertToInteractive('df-152bce75-66af-46b9-91d9-51f2ba3b00d5')\"\n",
              "              title=\"Convert this dataframe to an interactive table.\"\n",
              "              style=\"display:none;\">\n",
              "        \n",
              "  <svg xmlns=\"http://www.w3.org/2000/svg\" height=\"24px\"viewBox=\"0 0 24 24\"\n",
              "       width=\"24px\">\n",
              "    <path d=\"M0 0h24v24H0V0z\" fill=\"none\"/>\n",
              "    <path d=\"M18.56 5.44l.94 2.06.94-2.06 2.06-.94-2.06-.94-.94-2.06-.94 2.06-2.06.94zm-11 1L8.5 8.5l.94-2.06 2.06-.94-2.06-.94L8.5 2.5l-.94 2.06-2.06.94zm10 10l.94 2.06.94-2.06 2.06-.94-2.06-.94-.94-2.06-.94 2.06-2.06.94z\"/><path d=\"M17.41 7.96l-1.37-1.37c-.4-.4-.92-.59-1.43-.59-.52 0-1.04.2-1.43.59L10.3 9.45l-7.72 7.72c-.78.78-.78 2.05 0 2.83L4 21.41c.39.39.9.59 1.41.59.51 0 1.02-.2 1.41-.59l7.78-7.78 2.81-2.81c.8-.78.8-2.07 0-2.86zM5.41 20L4 18.59l7.72-7.72 1.47 1.35L5.41 20z\"/>\n",
              "  </svg>\n",
              "      </button>\n",
              "      \n",
              "  <style>\n",
              "    .colab-df-container {\n",
              "      display:flex;\n",
              "      flex-wrap:wrap;\n",
              "      gap: 12px;\n",
              "    }\n",
              "\n",
              "    .colab-df-convert {\n",
              "      background-color: #E8F0FE;\n",
              "      border: none;\n",
              "      border-radius: 50%;\n",
              "      cursor: pointer;\n",
              "      display: none;\n",
              "      fill: #1967D2;\n",
              "      height: 32px;\n",
              "      padding: 0 0 0 0;\n",
              "      width: 32px;\n",
              "    }\n",
              "\n",
              "    .colab-df-convert:hover {\n",
              "      background-color: #E2EBFA;\n",
              "      box-shadow: 0px 1px 2px rgba(60, 64, 67, 0.3), 0px 1px 3px 1px rgba(60, 64, 67, 0.15);\n",
              "      fill: #174EA6;\n",
              "    }\n",
              "\n",
              "    [theme=dark] .colab-df-convert {\n",
              "      background-color: #3B4455;\n",
              "      fill: #D2E3FC;\n",
              "    }\n",
              "\n",
              "    [theme=dark] .colab-df-convert:hover {\n",
              "      background-color: #434B5C;\n",
              "      box-shadow: 0px 1px 3px 1px rgba(0, 0, 0, 0.15);\n",
              "      filter: drop-shadow(0px 1px 2px rgba(0, 0, 0, 0.3));\n",
              "      fill: #FFFFFF;\n",
              "    }\n",
              "  </style>\n",
              "\n",
              "      <script>\n",
              "        const buttonEl =\n",
              "          document.querySelector('#df-152bce75-66af-46b9-91d9-51f2ba3b00d5 button.colab-df-convert');\n",
              "        buttonEl.style.display =\n",
              "          google.colab.kernel.accessAllowed ? 'block' : 'none';\n",
              "\n",
              "        async function convertToInteractive(key) {\n",
              "          const element = document.querySelector('#df-152bce75-66af-46b9-91d9-51f2ba3b00d5');\n",
              "          const dataTable =\n",
              "            await google.colab.kernel.invokeFunction('convertToInteractive',\n",
              "                                                     [key], {});\n",
              "          if (!dataTable) return;\n",
              "\n",
              "          const docLinkHtml = 'Like what you see? Visit the ' +\n",
              "            '<a target=\"_blank\" href=https://colab.research.google.com/notebooks/data_table.ipynb>data table notebook</a>'\n",
              "            + ' to learn more about interactive tables.';\n",
              "          element.innerHTML = '';\n",
              "          dataTable['output_type'] = 'display_data';\n",
              "          await google.colab.output.renderOutput(dataTable, element);\n",
              "          const docLink = document.createElement('div');\n",
              "          docLink.innerHTML = docLinkHtml;\n",
              "          element.appendChild(docLink);\n",
              "        }\n",
              "      </script>\n",
              "    </div>\n",
              "  </div>\n",
              "  "
            ]
          },
          "metadata": {},
          "execution_count": 5
        }
      ]
    },
    {
      "cell_type": "code",
      "source": [
        "playlist_tracks.to_csv('happy.csv', encoding='utf-8', index = False)"
      ],
      "metadata": {
        "id": "I7SV4bjCBrZ1"
      },
      "execution_count": 6,
      "outputs": []
    },
    {
      "cell_type": "code",
      "source": [
        "# playlist_tracks.to_csv(r'D:\\Causality\\GitHub\\spotify-jam\\happy_all.csv', index = False, header = True)"
      ],
      "metadata": {
        "id": "HLbeEE2OBtLC"
      },
      "execution_count": 7,
      "outputs": []
    },
    {
      "cell_type": "markdown",
      "source": [
        "*Similarly, create a `csv` file of calm songs.*"
      ],
      "metadata": {
        "id": "IpTeCfI2Xxg-"
      }
    },
    {
      "cell_type": "markdown",
      "source": [
        "### Import the required libraries"
      ],
      "metadata": {
        "id": "uiOc8M276N_A"
      }
    },
    {
      "cell_type": "code",
      "source": [
        "from sklearn.neighbors import NearestNeighbors\n",
        "import pandas as pd\n",
        "import plotly.express as px\n",
        "import matplotlib.pyplot as plt\n",
        "get_ipython().run_line_magic('matplotlib', 'inline')\n",
        "import numpy as np\n",
        "import seaborn as sns"
      ],
      "metadata": {
        "id": "O2jUuSiU6RZh"
      },
      "execution_count": 8,
      "outputs": []
    },
    {
      "cell_type": "markdown",
      "source": [
        "### Read the `CSV` files"
      ],
      "metadata": {
        "id": "w1r7xFSF6YZw"
      }
    },
    {
      "cell_type": "code",
      "source": [
        "happy = pd.read_csv(\"happy.csv\")\n",
        "calm = pd.read_csv(\"calm.csv\")"
      ],
      "metadata": {
        "id": "Z242nNHb6bks"
      },
      "execution_count": 9,
      "outputs": []
    },
    {
      "cell_type": "code",
      "source": [
        "happy.head()"
      ],
      "metadata": {
        "colab": {
          "base_uri": "https://localhost:8080/",
          "height": 444
        },
        "id": "yzuzPVMIIvAG",
        "outputId": "a120e086-0994-4d89-fcbc-7429f1dc7fcd"
      },
      "execution_count": 10,
      "outputs": [
        {
          "output_type": "execute_result",
          "data": {
            "text/plain": [
              "                      artist                          track  danceability  \\\n",
              "0        Katrina & The Waves            Walking On Sunshine         0.596   \n",
              "1              WALK THE MOON              Shut Up and Dance         0.578   \n",
              "2  The Edwin Hawkins Singers                   Oh Happy Day         0.321   \n",
              "3               Andy Grammer  Good To Be Alive (Hallelujah)         0.784   \n",
              "4           American Authors            Best Day Of My Life         0.672   \n",
              "\n",
              "   energy   key  loudness  mode  speechiness  acousticness  instrumentalness  \\\n",
              "0   0.869  10.0   -11.970   1.0       0.0370       0.01160          0.173000   \n",
              "1   0.866   1.0    -3.804   1.0       0.0619       0.00701          0.000000   \n",
              "2   0.462   8.0   -10.711   1.0       0.0346       0.09610          0.000000   \n",
              "3   0.882   5.0    -3.646   1.0       0.0451       0.03770          0.000000   \n",
              "4   0.901   2.0    -2.415   1.0       0.0353       0.05450          0.000285   \n",
              "\n",
              "   liveness  valence    tempo            type                      id  \\\n",
              "0    0.0678    0.944  109.902  audio_features  05wIrZSwuaVWhcv5FfqeH0   \n",
              "1    0.2570    0.619  128.038  audio_features  4kbj5MwxO1bq9wjT5g9HaA   \n",
              "2    0.1020    0.457  116.782  audio_features  34yIb7hw5SuR80au1BHTtt   \n",
              "3    0.6500    0.699  120.017  audio_features  1fMEUGs5CvRv0VrcJlQITt   \n",
              "4    0.0792    0.507   99.989  audio_features  5k31cAfP8yymw8v0AYQIjr   \n",
              "\n",
              "                                    uri  \\\n",
              "0  spotify:track:05wIrZSwuaVWhcv5FfqeH0   \n",
              "1  spotify:track:4kbj5MwxO1bq9wjT5g9HaA   \n",
              "2  spotify:track:34yIb7hw5SuR80au1BHTtt   \n",
              "3  spotify:track:1fMEUGs5CvRv0VrcJlQITt   \n",
              "4  spotify:track:5k31cAfP8yymw8v0AYQIjr   \n",
              "\n",
              "                                          track_href  \\\n",
              "0  https://api.spotify.com/v1/tracks/05wIrZSwuaVW...   \n",
              "1  https://api.spotify.com/v1/tracks/4kbj5MwxO1bq...   \n",
              "2  https://api.spotify.com/v1/tracks/34yIb7hw5SuR...   \n",
              "3  https://api.spotify.com/v1/tracks/1fMEUGs5CvRv...   \n",
              "4  https://api.spotify.com/v1/tracks/5k31cAfP8yym...   \n",
              "\n",
              "                                        analysis_url  duration_ms  \\\n",
              "0  https://api.spotify.com/v1/audio-analysis/05wI...     238733.0   \n",
              "1  https://api.spotify.com/v1/audio-analysis/4kbj...     199080.0   \n",
              "2  https://api.spotify.com/v1/audio-analysis/34yI...     308600.0   \n",
              "3  https://api.spotify.com/v1/audio-analysis/1fME...     189870.0   \n",
              "4  https://api.spotify.com/v1/audio-analysis/5k31...     194000.0   \n",
              "\n",
              "   time_signature  \n",
              "0             4.0  \n",
              "1             4.0  \n",
              "2             4.0  \n",
              "3             4.0  \n",
              "4             4.0  "
            ],
            "text/html": [
              "\n",
              "  <div id=\"df-d6c612a4-b8d7-471f-ae30-fc9f31cde135\">\n",
              "    <div class=\"colab-df-container\">\n",
              "      <div>\n",
              "<style scoped>\n",
              "    .dataframe tbody tr th:only-of-type {\n",
              "        vertical-align: middle;\n",
              "    }\n",
              "\n",
              "    .dataframe tbody tr th {\n",
              "        vertical-align: top;\n",
              "    }\n",
              "\n",
              "    .dataframe thead th {\n",
              "        text-align: right;\n",
              "    }\n",
              "</style>\n",
              "<table border=\"1\" class=\"dataframe\">\n",
              "  <thead>\n",
              "    <tr style=\"text-align: right;\">\n",
              "      <th></th>\n",
              "      <th>artist</th>\n",
              "      <th>track</th>\n",
              "      <th>danceability</th>\n",
              "      <th>energy</th>\n",
              "      <th>key</th>\n",
              "      <th>loudness</th>\n",
              "      <th>mode</th>\n",
              "      <th>speechiness</th>\n",
              "      <th>acousticness</th>\n",
              "      <th>instrumentalness</th>\n",
              "      <th>liveness</th>\n",
              "      <th>valence</th>\n",
              "      <th>tempo</th>\n",
              "      <th>type</th>\n",
              "      <th>id</th>\n",
              "      <th>uri</th>\n",
              "      <th>track_href</th>\n",
              "      <th>analysis_url</th>\n",
              "      <th>duration_ms</th>\n",
              "      <th>time_signature</th>\n",
              "    </tr>\n",
              "  </thead>\n",
              "  <tbody>\n",
              "    <tr>\n",
              "      <th>0</th>\n",
              "      <td>Katrina &amp; The Waves</td>\n",
              "      <td>Walking On Sunshine</td>\n",
              "      <td>0.596</td>\n",
              "      <td>0.869</td>\n",
              "      <td>10.0</td>\n",
              "      <td>-11.970</td>\n",
              "      <td>1.0</td>\n",
              "      <td>0.0370</td>\n",
              "      <td>0.01160</td>\n",
              "      <td>0.173000</td>\n",
              "      <td>0.0678</td>\n",
              "      <td>0.944</td>\n",
              "      <td>109.902</td>\n",
              "      <td>audio_features</td>\n",
              "      <td>05wIrZSwuaVWhcv5FfqeH0</td>\n",
              "      <td>spotify:track:05wIrZSwuaVWhcv5FfqeH0</td>\n",
              "      <td>https://api.spotify.com/v1/tracks/05wIrZSwuaVW...</td>\n",
              "      <td>https://api.spotify.com/v1/audio-analysis/05wI...</td>\n",
              "      <td>238733.0</td>\n",
              "      <td>4.0</td>\n",
              "    </tr>\n",
              "    <tr>\n",
              "      <th>1</th>\n",
              "      <td>WALK THE MOON</td>\n",
              "      <td>Shut Up and Dance</td>\n",
              "      <td>0.578</td>\n",
              "      <td>0.866</td>\n",
              "      <td>1.0</td>\n",
              "      <td>-3.804</td>\n",
              "      <td>1.0</td>\n",
              "      <td>0.0619</td>\n",
              "      <td>0.00701</td>\n",
              "      <td>0.000000</td>\n",
              "      <td>0.2570</td>\n",
              "      <td>0.619</td>\n",
              "      <td>128.038</td>\n",
              "      <td>audio_features</td>\n",
              "      <td>4kbj5MwxO1bq9wjT5g9HaA</td>\n",
              "      <td>spotify:track:4kbj5MwxO1bq9wjT5g9HaA</td>\n",
              "      <td>https://api.spotify.com/v1/tracks/4kbj5MwxO1bq...</td>\n",
              "      <td>https://api.spotify.com/v1/audio-analysis/4kbj...</td>\n",
              "      <td>199080.0</td>\n",
              "      <td>4.0</td>\n",
              "    </tr>\n",
              "    <tr>\n",
              "      <th>2</th>\n",
              "      <td>The Edwin Hawkins Singers</td>\n",
              "      <td>Oh Happy Day</td>\n",
              "      <td>0.321</td>\n",
              "      <td>0.462</td>\n",
              "      <td>8.0</td>\n",
              "      <td>-10.711</td>\n",
              "      <td>1.0</td>\n",
              "      <td>0.0346</td>\n",
              "      <td>0.09610</td>\n",
              "      <td>0.000000</td>\n",
              "      <td>0.1020</td>\n",
              "      <td>0.457</td>\n",
              "      <td>116.782</td>\n",
              "      <td>audio_features</td>\n",
              "      <td>34yIb7hw5SuR80au1BHTtt</td>\n",
              "      <td>spotify:track:34yIb7hw5SuR80au1BHTtt</td>\n",
              "      <td>https://api.spotify.com/v1/tracks/34yIb7hw5SuR...</td>\n",
              "      <td>https://api.spotify.com/v1/audio-analysis/34yI...</td>\n",
              "      <td>308600.0</td>\n",
              "      <td>4.0</td>\n",
              "    </tr>\n",
              "    <tr>\n",
              "      <th>3</th>\n",
              "      <td>Andy Grammer</td>\n",
              "      <td>Good To Be Alive (Hallelujah)</td>\n",
              "      <td>0.784</td>\n",
              "      <td>0.882</td>\n",
              "      <td>5.0</td>\n",
              "      <td>-3.646</td>\n",
              "      <td>1.0</td>\n",
              "      <td>0.0451</td>\n",
              "      <td>0.03770</td>\n",
              "      <td>0.000000</td>\n",
              "      <td>0.6500</td>\n",
              "      <td>0.699</td>\n",
              "      <td>120.017</td>\n",
              "      <td>audio_features</td>\n",
              "      <td>1fMEUGs5CvRv0VrcJlQITt</td>\n",
              "      <td>spotify:track:1fMEUGs5CvRv0VrcJlQITt</td>\n",
              "      <td>https://api.spotify.com/v1/tracks/1fMEUGs5CvRv...</td>\n",
              "      <td>https://api.spotify.com/v1/audio-analysis/1fME...</td>\n",
              "      <td>189870.0</td>\n",
              "      <td>4.0</td>\n",
              "    </tr>\n",
              "    <tr>\n",
              "      <th>4</th>\n",
              "      <td>American Authors</td>\n",
              "      <td>Best Day Of My Life</td>\n",
              "      <td>0.672</td>\n",
              "      <td>0.901</td>\n",
              "      <td>2.0</td>\n",
              "      <td>-2.415</td>\n",
              "      <td>1.0</td>\n",
              "      <td>0.0353</td>\n",
              "      <td>0.05450</td>\n",
              "      <td>0.000285</td>\n",
              "      <td>0.0792</td>\n",
              "      <td>0.507</td>\n",
              "      <td>99.989</td>\n",
              "      <td>audio_features</td>\n",
              "      <td>5k31cAfP8yymw8v0AYQIjr</td>\n",
              "      <td>spotify:track:5k31cAfP8yymw8v0AYQIjr</td>\n",
              "      <td>https://api.spotify.com/v1/tracks/5k31cAfP8yym...</td>\n",
              "      <td>https://api.spotify.com/v1/audio-analysis/5k31...</td>\n",
              "      <td>194000.0</td>\n",
              "      <td>4.0</td>\n",
              "    </tr>\n",
              "  </tbody>\n",
              "</table>\n",
              "</div>\n",
              "      <button class=\"colab-df-convert\" onclick=\"convertToInteractive('df-d6c612a4-b8d7-471f-ae30-fc9f31cde135')\"\n",
              "              title=\"Convert this dataframe to an interactive table.\"\n",
              "              style=\"display:none;\">\n",
              "        \n",
              "  <svg xmlns=\"http://www.w3.org/2000/svg\" height=\"24px\"viewBox=\"0 0 24 24\"\n",
              "       width=\"24px\">\n",
              "    <path d=\"M0 0h24v24H0V0z\" fill=\"none\"/>\n",
              "    <path d=\"M18.56 5.44l.94 2.06.94-2.06 2.06-.94-2.06-.94-.94-2.06-.94 2.06-2.06.94zm-11 1L8.5 8.5l.94-2.06 2.06-.94-2.06-.94L8.5 2.5l-.94 2.06-2.06.94zm10 10l.94 2.06.94-2.06 2.06-.94-2.06-.94-.94-2.06-.94 2.06-2.06.94z\"/><path d=\"M17.41 7.96l-1.37-1.37c-.4-.4-.92-.59-1.43-.59-.52 0-1.04.2-1.43.59L10.3 9.45l-7.72 7.72c-.78.78-.78 2.05 0 2.83L4 21.41c.39.39.9.59 1.41.59.51 0 1.02-.2 1.41-.59l7.78-7.78 2.81-2.81c.8-.78.8-2.07 0-2.86zM5.41 20L4 18.59l7.72-7.72 1.47 1.35L5.41 20z\"/>\n",
              "  </svg>\n",
              "      </button>\n",
              "      \n",
              "  <style>\n",
              "    .colab-df-container {\n",
              "      display:flex;\n",
              "      flex-wrap:wrap;\n",
              "      gap: 12px;\n",
              "    }\n",
              "\n",
              "    .colab-df-convert {\n",
              "      background-color: #E8F0FE;\n",
              "      border: none;\n",
              "      border-radius: 50%;\n",
              "      cursor: pointer;\n",
              "      display: none;\n",
              "      fill: #1967D2;\n",
              "      height: 32px;\n",
              "      padding: 0 0 0 0;\n",
              "      width: 32px;\n",
              "    }\n",
              "\n",
              "    .colab-df-convert:hover {\n",
              "      background-color: #E2EBFA;\n",
              "      box-shadow: 0px 1px 2px rgba(60, 64, 67, 0.3), 0px 1px 3px 1px rgba(60, 64, 67, 0.15);\n",
              "      fill: #174EA6;\n",
              "    }\n",
              "\n",
              "    [theme=dark] .colab-df-convert {\n",
              "      background-color: #3B4455;\n",
              "      fill: #D2E3FC;\n",
              "    }\n",
              "\n",
              "    [theme=dark] .colab-df-convert:hover {\n",
              "      background-color: #434B5C;\n",
              "      box-shadow: 0px 1px 3px 1px rgba(0, 0, 0, 0.15);\n",
              "      filter: drop-shadow(0px 1px 2px rgba(0, 0, 0, 0.3));\n",
              "      fill: #FFFFFF;\n",
              "    }\n",
              "  </style>\n",
              "\n",
              "      <script>\n",
              "        const buttonEl =\n",
              "          document.querySelector('#df-d6c612a4-b8d7-471f-ae30-fc9f31cde135 button.colab-df-convert');\n",
              "        buttonEl.style.display =\n",
              "          google.colab.kernel.accessAllowed ? 'block' : 'none';\n",
              "\n",
              "        async function convertToInteractive(key) {\n",
              "          const element = document.querySelector('#df-d6c612a4-b8d7-471f-ae30-fc9f31cde135');\n",
              "          const dataTable =\n",
              "            await google.colab.kernel.invokeFunction('convertToInteractive',\n",
              "                                                     [key], {});\n",
              "          if (!dataTable) return;\n",
              "\n",
              "          const docLinkHtml = 'Like what you see? Visit the ' +\n",
              "            '<a target=\"_blank\" href=https://colab.research.google.com/notebooks/data_table.ipynb>data table notebook</a>'\n",
              "            + ' to learn more about interactive tables.';\n",
              "          element.innerHTML = '';\n",
              "          dataTable['output_type'] = 'display_data';\n",
              "          await google.colab.output.renderOutput(dataTable, element);\n",
              "          const docLink = document.createElement('div');\n",
              "          docLink.innerHTML = docLinkHtml;\n",
              "          element.appendChild(docLink);\n",
              "        }\n",
              "      </script>\n",
              "    </div>\n",
              "  </div>\n",
              "  "
            ]
          },
          "metadata": {},
          "execution_count": 10
        }
      ]
    },
    {
      "cell_type": "markdown",
      "source": [
        "### Graph the attributes\n"
      ],
      "metadata": {
        "id": "mCMum29o6hBp"
      }
    },
    {
      "cell_type": "code",
      "source": [
        "plt.plot(happy.acousticness, color='blue')\n",
        "plt.plot(calm.acousticness, color='red')\n",
        "plt.xlabel(\"song #\")\n",
        "plt.ylabel(\"acousticness\")\n",
        "plt.title(\"acousticness in the playlists\")"
      ],
      "metadata": {
        "id": "tIEy1mr66jc8",
        "colab": {
          "base_uri": "https://localhost:8080/",
          "height": 313
        },
        "outputId": "f7f6bc36-41ff-44f8-dd40-e6011973b9ba"
      },
      "execution_count": 11,
      "outputs": [
        {
          "output_type": "execute_result",
          "data": {
            "text/plain": [
              "Text(0.5, 1.0, 'acousticness in the playlists')"
            ]
          },
          "metadata": {},
          "execution_count": 11
        },
        {
          "output_type": "display_data",
          "data": {
            "text/plain": [
              "<Figure size 432x288 with 1 Axes>"
            ],
            "image/png": "[encoded data removed]"
          },
          "metadata": {
            "needs_background": "light"
          }
        }
      ]
    },
    {
      "cell_type": "markdown",
      "source": [
        "### Combining the datasets"
      ],
      "metadata": {
        "id": "Fx6tPOKQZvzR"
      }
    },
    {
      "cell_type": "code",
      "source": [
        "frames = [happy, calm]\n",
        "\n",
        "# Add target variable\n",
        "for i in range(len(frames)):\n",
        "  frames[i]['target'] = [i for _ in range(happy.shape[0])]\n",
        "\n",
        "happy_calm = pd.concat(frames, ignore_index=True)\n",
        "happy_calm = happy_calm[['energy', 'acousticness', 'valence', 'target']]\n",
        "\n",
        "for col in ['energy', 'acousticness', 'valence']:\n",
        "  happy_calm[col] = 1000 * happy_calm[col]\n",
        "\n",
        "happy_calm.to_csv(\"happy_calm.csv\", encoding='utf-8', index = False)"
      ],
      "metadata": {
        "id": "8HrlPqtuJ0eX"
      },
      "execution_count": 12,
      "outputs": []
    },
    {
      "cell_type": "code",
      "source": [
        "happy_calm = pd.read_csv(\"happy_calm.csv\")\n",
        "happy_calm.head()"
      ],
      "metadata": {
        "id": "Y7IG77YB6wWB",
        "colab": {
          "base_uri": "https://localhost:8080/",
          "height": 206
        },
        "outputId": "147eaf27-d65c-4794-9183-c725cea27324"
      },
      "execution_count": 13,
      "outputs": [
        {
          "output_type": "execute_result",
          "data": {
            "text/plain": [
              "   energy  acousticness  valence  target\n",
              "0   869.0         11.60    944.0       0\n",
              "1   866.0          7.01    619.0       0\n",
              "2   462.0         96.10    457.0       0\n",
              "3   882.0         37.70    699.0       0\n",
              "4   901.0         54.50    507.0       0"
            ],
            "text/html": [
              "\n",
              "  <div id=\"df-6ace1008-9264-4cd3-8178-0cf2bb9930ee\">\n",
              "    <div class=\"colab-df-container\">\n",
              "      <div>\n",
              "<style scoped>\n",
              "    .dataframe tbody tr th:only-of-type {\n",
              "        vertical-align: middle;\n",
              "    }\n",
              "\n",
              "    .dataframe tbody tr th {\n",
              "        vertical-align: top;\n",
              "    }\n",
              "\n",
              "    .dataframe thead th {\n",
              "        text-align: right;\n",
              "    }\n",
              "</style>\n",
              "<table border=\"1\" class=\"dataframe\">\n",
              "  <thead>\n",
              "    <tr style=\"text-align: right;\">\n",
              "      <th></th>\n",
              "      <th>energy</th>\n",
              "      <th>acousticness</th>\n",
              "      <th>valence</th>\n",
              "      <th>target</th>\n",
              "    </tr>\n",
              "  </thead>\n",
              "  <tbody>\n",
              "    <tr>\n",
              "      <th>0</th>\n",
              "      <td>869.0</td>\n",
              "      <td>11.60</td>\n",
              "      <td>944.0</td>\n",
              "      <td>0</td>\n",
              "    </tr>\n",
              "    <tr>\n",
              "      <th>1</th>\n",
              "      <td>866.0</td>\n",
              "      <td>7.01</td>\n",
              "      <td>619.0</td>\n",
              "      <td>0</td>\n",
              "    </tr>\n",
              "    <tr>\n",
              "      <th>2</th>\n",
              "      <td>462.0</td>\n",
              "      <td>96.10</td>\n",
              "      <td>457.0</td>\n",
              "      <td>0</td>\n",
              "    </tr>\n",
              "    <tr>\n",
              "      <th>3</th>\n",
              "      <td>882.0</td>\n",
              "      <td>37.70</td>\n",
              "      <td>699.0</td>\n",
              "      <td>0</td>\n",
              "    </tr>\n",
              "    <tr>\n",
              "      <th>4</th>\n",
              "      <td>901.0</td>\n",
              "      <td>54.50</td>\n",
              "      <td>507.0</td>\n",
              "      <td>0</td>\n",
              "    </tr>\n",
              "  </tbody>\n",
              "</table>\n",
              "</div>\n",
              "      <button class=\"colab-df-convert\" onclick=\"convertToInteractive('df-6ace1008-9264-4cd3-8178-0cf2bb9930ee')\"\n",
              "              title=\"Convert this dataframe to an interactive table.\"\n",
              "              style=\"display:none;\">\n",
              "        \n",
              "  <svg xmlns=\"http://www.w3.org/2000/svg\" height=\"24px\"viewBox=\"0 0 24 24\"\n",
              "       width=\"24px\">\n",
              "    <path d=\"M0 0h24v24H0V0z\" fill=\"none\"/>\n",
              "    <path d=\"M18.56 5.44l.94 2.06.94-2.06 2.06-.94-2.06-.94-.94-2.06-.94 2.06-2.06.94zm-11 1L8.5 8.5l.94-2.06 2.06-.94-2.06-.94L8.5 2.5l-.94 2.06-2.06.94zm10 10l.94 2.06.94-2.06 2.06-.94-2.06-.94-.94-2.06-.94 2.06-2.06.94z\"/><path d=\"M17.41 7.96l-1.37-1.37c-.4-.4-.92-.59-1.43-.59-.52 0-1.04.2-1.43.59L10.3 9.45l-7.72 7.72c-.78.78-.78 2.05 0 2.83L4 21.41c.39.39.9.59 1.41.59.51 0 1.02-.2 1.41-.59l7.78-7.78 2.81-2.81c.8-.78.8-2.07 0-2.86zM5.41 20L4 18.59l7.72-7.72 1.47 1.35L5.41 20z\"/>\n",
              "  </svg>\n",
              "      </button>\n",
              "      \n",
              "  <style>\n",
              "    .colab-df-container {\n",
              "      display:flex;\n",
              "      flex-wrap:wrap;\n",
              "      gap: 12px;\n",
              "    }\n",
              "\n",
              "    .colab-df-convert {\n",
              "      background-color: #E8F0FE;\n",
              "      border: none;\n",
              "      border-radius: 50%;\n",
              "      cursor: pointer;\n",
              "      display: none;\n",
              "      fill: #1967D2;\n",
              "      height: 32px;\n",
              "      padding: 0 0 0 0;\n",
              "      width: 32px;\n",
              "    }\n",
              "\n",
              "    .colab-df-convert:hover {\n",
              "      background-color: #E2EBFA;\n",
              "      box-shadow: 0px 1px 2px rgba(60, 64, 67, 0.3), 0px 1px 3px 1px rgba(60, 64, 67, 0.15);\n",
              "      fill: #174EA6;\n",
              "    }\n",
              "\n",
              "    [theme=dark] .colab-df-convert {\n",
              "      background-color: #3B4455;\n",
              "      fill: #D2E3FC;\n",
              "    }\n",
              "\n",
              "    [theme=dark] .colab-df-convert:hover {\n",
              "      background-color: #434B5C;\n",
              "      box-shadow: 0px 1px 3px 1px rgba(0, 0, 0, 0.15);\n",
              "      filter: drop-shadow(0px 1px 2px rgba(0, 0, 0, 0.3));\n",
              "      fill: #FFFFFF;\n",
              "    }\n",
              "  </style>\n",
              "\n",
              "      <script>\n",
              "        const buttonEl =\n",
              "          document.querySelector('#df-6ace1008-9264-4cd3-8178-0cf2bb9930ee button.colab-df-convert');\n",
              "        buttonEl.style.display =\n",
              "          google.colab.kernel.accessAllowed ? 'block' : 'none';\n",
              "\n",
              "        async function convertToInteractive(key) {\n",
              "          const element = document.querySelector('#df-6ace1008-9264-4cd3-8178-0cf2bb9930ee');\n",
              "          const dataTable =\n",
              "            await google.colab.kernel.invokeFunction('convertToInteractive',\n",
              "                                                     [key], {});\n",
              "          if (!dataTable) return;\n",
              "\n",
              "          const docLinkHtml = 'Like what you see? Visit the ' +\n",
              "            '<a target=\"_blank\" href=https://colab.research.google.com/notebooks/data_table.ipynb>data table notebook</a>'\n",
              "            + ' to learn more about interactive tables.';\n",
              "          element.innerHTML = '';\n",
              "          dataTable['output_type'] = 'display_data';\n",
              "          await google.colab.output.renderOutput(dataTable, element);\n",
              "          const docLink = document.createElement('div');\n",
              "          docLink.innerHTML = docLinkHtml;\n",
              "          element.appendChild(docLink);\n",
              "        }\n",
              "      </script>\n",
              "    </div>\n",
              "  </div>\n",
              "  "
            ]
          },
          "metadata": {},
          "execution_count": 13
        }
      ]
    },
    {
      "cell_type": "markdown",
      "source": [
        "### Check for possible errors"
      ],
      "metadata": {
        "id": "P3AxT5UP6xB-"
      }
    },
    {
      "cell_type": "code",
      "source": [
        "# Null values\n",
        "happy_calm.isnull().values.any()"
      ],
      "metadata": {
        "id": "Ipcd16y-60zs",
        "colab": {
          "base_uri": "https://localhost:8080/"
        },
        "outputId": "e0ece3ba-7db9-4fa9-f3e3-8efd137f8808"
      },
      "execution_count": 14,
      "outputs": [
        {
          "output_type": "execute_result",
          "data": {
            "text/plain": [
              "True"
            ]
          },
          "metadata": {},
          "execution_count": 14
        }
      ]
    },
    {
      "cell_type": "code",
      "source": [
        "# Check the datatypes\n",
        "happy_calm.dtypes"
      ],
      "metadata": {
        "id": "xpgLeHVt663z",
        "colab": {
          "base_uri": "https://localhost:8080/"
        },
        "outputId": "0a4cdd10-792d-46c0-9d7d-6c0b258bc6be"
      },
      "execution_count": 15,
      "outputs": [
        {
          "output_type": "execute_result",
          "data": {
            "text/plain": [
              "energy          float64\n",
              "acousticness    float64\n",
              "valence         float64\n",
              "target            int64\n",
              "dtype: object"
            ]
          },
          "metadata": {},
          "execution_count": 15
        }
      ]
    },
    {
      "cell_type": "code",
      "source": [
        "# Change the datatype\n",
        "happy_calm = happy_calm.fillna(0)\n",
        "for col in list(happy_calm.columns):\n",
        "  happy_calm[col] = happy_calm[col].astype(int)\n",
        "happy_calm"
      ],
      "metadata": {
        "id": "BiqlJviA7G1B",
        "colab": {
          "base_uri": "https://localhost:8080/",
          "height": 423
        },
        "outputId": "872ac15e-6f38-45b3-f5f6-eff9b9215cec"
      },
      "execution_count": 16,
      "outputs": [
        {
          "output_type": "execute_result",
          "data": {
            "text/plain": [
              "     energy  acousticness  valence  target\n",
              "0       869            11      944       0\n",
              "1       866             7      619       0\n",
              "2       462            96      457       0\n",
              "3       882            37      699       0\n",
              "4       901            54      507       0\n",
              "..      ...           ...      ...     ...\n",
              "395     577             4       98       1\n",
              "396     321            61      181       1\n",
              "397     942             1      951       1\n",
              "398     461           138      114       1\n",
              "399     648            10      326       1\n",
              "\n",
              "[400 rows x 4 columns]"
            ],
            "text/html": [
              "\n",
              "  <div id=\"df-d7be4e5b-5d04-4674-8a60-acd122dbc607\">\n",
              "    <div class=\"colab-df-container\">\n",
              "      <div>\n",
              "<style scoped>\n",
              "    .dataframe tbody tr th:only-of-type {\n",
              "        vertical-align: middle;\n",
              "    }\n",
              "\n",
              "    .dataframe tbody tr th {\n",
              "        vertical-align: top;\n",
              "    }\n",
              "\n",
              "    .dataframe thead th {\n",
              "        text-align: right;\n",
              "    }\n",
              "</style>\n",
              "<table border=\"1\" class=\"dataframe\">\n",
              "  <thead>\n",
              "    <tr style=\"text-align: right;\">\n",
              "      <th></th>\n",
              "      <th>energy</th>\n",
              "      <th>acousticness</th>\n",
              "      <th>valence</th>\n",
              "      <th>target</th>\n",
              "    </tr>\n",
              "  </thead>\n",
              "  <tbody>\n",
              "    <tr>\n",
              "      <th>0</th>\n",
              "      <td>869</td>\n",
              "      <td>11</td>\n",
              "      <td>944</td>\n",
              "      <td>0</td>\n",
              "    </tr>\n",
              "    <tr>\n",
              "      <th>1</th>\n",
              "      <td>866</td>\n",
              "      <td>7</td>\n",
              "      <td>619</td>\n",
              "      <td>0</td>\n",
              "    </tr>\n",
              "    <tr>\n",
              "      <th>2</th>\n",
              "      <td>462</td>\n",
              "      <td>96</td>\n",
              "      <td>457</td>\n",
              "      <td>0</td>\n",
              "    </tr>\n",
              "    <tr>\n",
              "      <th>3</th>\n",
              "      <td>882</td>\n",
              "      <td>37</td>\n",
              "      <td>699</td>\n",
              "      <td>0</td>\n",
              "    </tr>\n",
              "    <tr>\n",
              "      <th>4</th>\n",
              "      <td>901</td>\n",
              "      <td>54</td>\n",
              "      <td>507</td>\n",
              "      <td>0</td>\n",
              "    </tr>\n",
              "    <tr>\n",
              "      <th>...</th>\n",
              "      <td>...</td>\n",
              "      <td>...</td>\n",
              "      <td>...</td>\n",
              "      <td>...</td>\n",
              "    </tr>\n",
              "    <tr>\n",
              "      <th>395</th>\n",
              "      <td>577</td>\n",
              "      <td>4</td>\n",
              "      <td>98</td>\n",
              "      <td>1</td>\n",
              "    </tr>\n",
              "    <tr>\n",
              "      <th>396</th>\n",
              "      <td>321</td>\n",
              "      <td>61</td>\n",
              "      <td>181</td>\n",
              "      <td>1</td>\n",
              "    </tr>\n",
              "    <tr>\n",
              "      <th>397</th>\n",
              "      <td>942</td>\n",
              "      <td>1</td>\n",
              "      <td>951</td>\n",
              "      <td>1</td>\n",
              "    </tr>\n",
              "    <tr>\n",
              "      <th>398</th>\n",
              "      <td>461</td>\n",
              "      <td>138</td>\n",
              "      <td>114</td>\n",
              "      <td>1</td>\n",
              "    </tr>\n",
              "    <tr>\n",
              "      <th>399</th>\n",
              "      <td>648</td>\n",
              "      <td>10</td>\n",
              "      <td>326</td>\n",
              "      <td>1</td>\n",
              "    </tr>\n",
              "  </tbody>\n",
              "</table>\n",
              "<p>400 rows × 4 columns</p>\n",
              "</div>\n",
              "      <button class=\"colab-df-convert\" onclick=\"convertToInteractive('df-d7be4e5b-5d04-4674-8a60-acd122dbc607')\"\n",
              "              title=\"Convert this dataframe to an interactive table.\"\n",
              "              style=\"display:none;\">\n",
              "        \n",
              "  <svg xmlns=\"http://www.w3.org/2000/svg\" height=\"24px\"viewBox=\"0 0 24 24\"\n",
              "       width=\"24px\">\n",
              "    <path d=\"M0 0h24v24H0V0z\" fill=\"none\"/>\n",
              "    <path d=\"M18.56 5.44l.94 2.06.94-2.06 2.06-.94-2.06-.94-.94-2.06-.94 2.06-2.06.94zm-11 1L8.5 8.5l.94-2.06 2.06-.94-2.06-.94L8.5 2.5l-.94 2.06-2.06.94zm10 10l.94 2.06.94-2.06 2.06-.94-2.06-.94-.94-2.06-.94 2.06-2.06.94z\"/><path d=\"M17.41 7.96l-1.37-1.37c-.4-.4-.92-.59-1.43-.59-.52 0-1.04.2-1.43.59L10.3 9.45l-7.72 7.72c-.78.78-.78 2.05 0 2.83L4 21.41c.39.39.9.59 1.41.59.51 0 1.02-.2 1.41-.59l7.78-7.78 2.81-2.81c.8-.78.8-2.07 0-2.86zM5.41 20L4 18.59l7.72-7.72 1.47 1.35L5.41 20z\"/>\n",
              "  </svg>\n",
              "      </button>\n",
              "      \n",
              "  <style>\n",
              "    .colab-df-container {\n",
              "      display:flex;\n",
              "      flex-wrap:wrap;\n",
              "      gap: 12px;\n",
              "    }\n",
              "\n",
              "    .colab-df-convert {\n",
              "      background-color: #E8F0FE;\n",
              "      border: none;\n",
              "      border-radius: 50%;\n",
              "      cursor: pointer;\n",
              "      display: none;\n",
              "      fill: #1967D2;\n",
              "      height: 32px;\n",
              "      padding: 0 0 0 0;\n",
              "      width: 32px;\n",
              "    }\n",
              "\n",
              "    .colab-df-convert:hover {\n",
              "      background-color: #E2EBFA;\n",
              "      box-shadow: 0px 1px 2px rgba(60, 64, 67, 0.3), 0px 1px 3px 1px rgba(60, 64, 67, 0.15);\n",
              "      fill: #174EA6;\n",
              "    }\n",
              "\n",
              "    [theme=dark] .colab-df-convert {\n",
              "      background-color: #3B4455;\n",
              "      fill: #D2E3FC;\n",
              "    }\n",
              "\n",
              "    [theme=dark] .colab-df-convert:hover {\n",
              "      background-color: #434B5C;\n",
              "      box-shadow: 0px 1px 3px 1px rgba(0, 0, 0, 0.15);\n",
              "      filter: drop-shadow(0px 1px 2px rgba(0, 0, 0, 0.3));\n",
              "      fill: #FFFFFF;\n",
              "    }\n",
              "  </style>\n",
              "\n",
              "      <script>\n",
              "        const buttonEl =\n",
              "          document.querySelector('#df-d7be4e5b-5d04-4674-8a60-acd122dbc607 button.colab-df-convert');\n",
              "        buttonEl.style.display =\n",
              "          google.colab.kernel.accessAllowed ? 'block' : 'none';\n",
              "\n",
              "        async function convertToInteractive(key) {\n",
              "          const element = document.querySelector('#df-d7be4e5b-5d04-4674-8a60-acd122dbc607');\n",
              "          const dataTable =\n",
              "            await google.colab.kernel.invokeFunction('convertToInteractive',\n",
              "                                                     [key], {});\n",
              "          if (!dataTable) return;\n",
              "\n",
              "          const docLinkHtml = 'Like what you see? Visit the ' +\n",
              "            '<a target=\"_blank\" href=https://colab.research.google.com/notebooks/data_table.ipynb>data table notebook</a>'\n",
              "            + ' to learn more about interactive tables.';\n",
              "          element.innerHTML = '';\n",
              "          dataTable['output_type'] = 'display_data';\n",
              "          await google.colab.output.renderOutput(dataTable, element);\n",
              "          const docLink = document.createElement('div');\n",
              "          docLink.innerHTML = docLinkHtml;\n",
              "          element.appendChild(docLink);\n",
              "        }\n",
              "      </script>\n",
              "    </div>\n",
              "  </div>\n",
              "  "
            ]
          },
          "metadata": {},
          "execution_count": 16
        }
      ]
    },
    {
      "cell_type": "markdown",
      "source": [
        "### Standardize the data"
      ],
      "metadata": {
        "id": "bfw8PTY87L2S"
      }
    },
    {
      "cell_type": "code",
      "source": [
        "from sklearn.preprocessing import StandardScaler\n",
        "scaler = StandardScaler()\n",
        "scaler.fit(happy_calm.drop('target', axis=1))"
      ],
      "metadata": {
        "id": "wLMLNQbl7J7o",
        "colab": {
          "base_uri": "https://localhost:8080/"
        },
        "outputId": "62929cd5-d149-4f85-da0b-e5a40bc8bf2a"
      },
      "execution_count": 17,
      "outputs": [
        {
          "output_type": "execute_result",
          "data": {
            "text/plain": [
              "StandardScaler()"
            ]
          },
          "metadata": {},
          "execution_count": 17
        }
      ]
    },
    {
      "cell_type": "code",
      "source": [
        "scaled_features = scaler.transform(happy_calm.drop('target',axis=1))\n",
        "scaled_features"
      ],
      "metadata": {
        "id": "8vOwSGme7Tt7",
        "colab": {
          "base_uri": "https://localhost:8080/"
        },
        "outputId": "9ce6da07-042f-470c-c35a-42c4ee3ca67a"
      },
      "execution_count": 18,
      "outputs": [
        {
          "output_type": "execute_result",
          "data": {
            "text/plain": [
              "array([[ 1.23411859, -0.73616408,  1.71891449],\n",
              "       [ 1.22337857, -0.75258692,  0.64184329],\n",
              "       [-0.22294506, -0.38717872,  0.10496473],\n",
              "       ...,\n",
              "       [ 1.49545925, -0.77722118,  1.74211294],\n",
              "       [-0.22652507, -0.2147389 , -1.03175964],\n",
              "       [ 0.44293661, -0.74026979, -0.32917781]])"
            ]
          },
          "metadata": {},
          "execution_count": 18
        }
      ]
    },
    {
      "cell_type": "code",
      "source": [
        "happy_calm_feat = pd.DataFrame(scaled_features, columns = happy_calm.columns[:-1])\n",
        "happy_calm_feat.head()"
      ],
      "metadata": {
        "id": "MEn_t5gt7Wga",
        "colab": {
          "base_uri": "https://localhost:8080/",
          "height": 206
        },
        "outputId": "8af72589-17b4-4dc1-aab0-6a8c1cf5516e"
      },
      "execution_count": 19,
      "outputs": [
        {
          "output_type": "execute_result",
          "data": {
            "text/plain": [
              "     energy  acousticness   valence\n",
              "0  1.234119     -0.736164  1.718914\n",
              "1  1.223379     -0.752587  0.641843\n",
              "2 -0.222945     -0.387179  0.104965\n",
              "3  1.280659     -0.629416  0.906969\n",
              "4  1.348679     -0.559619  0.270668"
            ],
            "text/html": [
              "\n",
              "  <div id=\"df-bd067958-7a68-4167-81f2-d7348b282ca5\">\n",
              "    <div class=\"colab-df-container\">\n",
              "      <div>\n",
              "<style scoped>\n",
              "    .dataframe tbody tr th:only-of-type {\n",
              "        vertical-align: middle;\n",
              "    }\n",
              "\n",
              "    .dataframe tbody tr th {\n",
              "        vertical-align: top;\n",
              "    }\n",
              "\n",
              "    .dataframe thead th {\n",
              "        text-align: right;\n",
              "    }\n",
              "</style>\n",
              "<table border=\"1\" class=\"dataframe\">\n",
              "  <thead>\n",
              "    <tr style=\"text-align: right;\">\n",
              "      <th></th>\n",
              "      <th>energy</th>\n",
              "      <th>acousticness</th>\n",
              "      <th>valence</th>\n",
              "    </tr>\n",
              "  </thead>\n",
              "  <tbody>\n",
              "    <tr>\n",
              "      <th>0</th>\n",
              "      <td>1.234119</td>\n",
              "      <td>-0.736164</td>\n",
              "      <td>1.718914</td>\n",
              "    </tr>\n",
              "    <tr>\n",
              "      <th>1</th>\n",
              "      <td>1.223379</td>\n",
              "      <td>-0.752587</td>\n",
              "      <td>0.641843</td>\n",
              "    </tr>\n",
              "    <tr>\n",
              "      <th>2</th>\n",
              "      <td>-0.222945</td>\n",
              "      <td>-0.387179</td>\n",
              "      <td>0.104965</td>\n",
              "    </tr>\n",
              "    <tr>\n",
              "      <th>3</th>\n",
              "      <td>1.280659</td>\n",
              "      <td>-0.629416</td>\n",
              "      <td>0.906969</td>\n",
              "    </tr>\n",
              "    <tr>\n",
              "      <th>4</th>\n",
              "      <td>1.348679</td>\n",
              "      <td>-0.559619</td>\n",
              "      <td>0.270668</td>\n",
              "    </tr>\n",
              "  </tbody>\n",
              "</table>\n",
              "</div>\n",
              "      <button class=\"colab-df-convert\" onclick=\"convertToInteractive('df-bd067958-7a68-4167-81f2-d7348b282ca5')\"\n",
              "              title=\"Convert this dataframe to an interactive table.\"\n",
              "              style=\"display:none;\">\n",
              "        \n",
              "  <svg xmlns=\"http://www.w3.org/2000/svg\" height=\"24px\"viewBox=\"0 0 24 24\"\n",
              "       width=\"24px\">\n",
              "    <path d=\"M0 0h24v24H0V0z\" fill=\"none\"/>\n",
              "    <path d=\"M18.56 5.44l.94 2.06.94-2.06 2.06-.94-2.06-.94-.94-2.06-.94 2.06-2.06.94zm-11 1L8.5 8.5l.94-2.06 2.06-.94-2.06-.94L8.5 2.5l-.94 2.06-2.06.94zm10 10l.94 2.06.94-2.06 2.06-.94-2.06-.94-.94-2.06-.94 2.06-2.06.94z\"/><path d=\"M17.41 7.96l-1.37-1.37c-.4-.4-.92-.59-1.43-.59-.52 0-1.04.2-1.43.59L10.3 9.45l-7.72 7.72c-.78.78-.78 2.05 0 2.83L4 21.41c.39.39.9.59 1.41.59.51 0 1.02-.2 1.41-.59l7.78-7.78 2.81-2.81c.8-.78.8-2.07 0-2.86zM5.41 20L4 18.59l7.72-7.72 1.47 1.35L5.41 20z\"/>\n",
              "  </svg>\n",
              "      </button>\n",
              "      \n",
              "  <style>\n",
              "    .colab-df-container {\n",
              "      display:flex;\n",
              "      flex-wrap:wrap;\n",
              "      gap: 12px;\n",
              "    }\n",
              "\n",
              "    .colab-df-convert {\n",
              "      background-color: #E8F0FE;\n",
              "      border: none;\n",
              "      border-radius: 50%;\n",
              "      cursor: pointer;\n",
              "      display: none;\n",
              "      fill: #1967D2;\n",
              "      height: 32px;\n",
              "      padding: 0 0 0 0;\n",
              "      width: 32px;\n",
              "    }\n",
              "\n",
              "    .colab-df-convert:hover {\n",
              "      background-color: #E2EBFA;\n",
              "      box-shadow: 0px 1px 2px rgba(60, 64, 67, 0.3), 0px 1px 3px 1px rgba(60, 64, 67, 0.15);\n",
              "      fill: #174EA6;\n",
              "    }\n",
              "\n",
              "    [theme=dark] .colab-df-convert {\n",
              "      background-color: #3B4455;\n",
              "      fill: #D2E3FC;\n",
              "    }\n",
              "\n",
              "    [theme=dark] .colab-df-convert:hover {\n",
              "      background-color: #434B5C;\n",
              "      box-shadow: 0px 1px 3px 1px rgba(0, 0, 0, 0.15);\n",
              "      filter: drop-shadow(0px 1px 2px rgba(0, 0, 0, 0.3));\n",
              "      fill: #FFFFFF;\n",
              "    }\n",
              "  </style>\n",
              "\n",
              "      <script>\n",
              "        const buttonEl =\n",
              "          document.querySelector('#df-bd067958-7a68-4167-81f2-d7348b282ca5 button.colab-df-convert');\n",
              "        buttonEl.style.display =\n",
              "          google.colab.kernel.accessAllowed ? 'block' : 'none';\n",
              "\n",
              "        async function convertToInteractive(key) {\n",
              "          const element = document.querySelector('#df-bd067958-7a68-4167-81f2-d7348b282ca5');\n",
              "          const dataTable =\n",
              "            await google.colab.kernel.invokeFunction('convertToInteractive',\n",
              "                                                     [key], {});\n",
              "          if (!dataTable) return;\n",
              "\n",
              "          const docLinkHtml = 'Like what you see? Visit the ' +\n",
              "            '<a target=\"_blank\" href=https://colab.research.google.com/notebooks/data_table.ipynb>data table notebook</a>'\n",
              "            + ' to learn more about interactive tables.';\n",
              "          element.innerHTML = '';\n",
              "          dataTable['output_type'] = 'display_data';\n",
              "          await google.colab.output.renderOutput(dataTable, element);\n",
              "          const docLink = document.createElement('div');\n",
              "          docLink.innerHTML = docLinkHtml;\n",
              "          element.appendChild(docLink);\n",
              "        }\n",
              "      </script>\n",
              "    </div>\n",
              "  </div>\n",
              "  "
            ]
          },
          "metadata": {},
          "execution_count": 19
        }
      ]
    },
    {
      "cell_type": "markdown",
      "source": [
        "### Split the data"
      ],
      "metadata": {
        "id": "1Q3P8hX17YLy"
      }
    },
    {
      "cell_type": "code",
      "source": [
        "from sklearn.model_selection import train_test_split\n",
        "X = happy_calm_feat\n",
        "y = happy_calm['target']\n",
        "\n",
        "X_train, X_test, y_train, y_test = train_test_split(X, y, test_size=0.3, random_state=30, shuffle=True)"
      ],
      "metadata": {
        "id": "J-tDfqPq7aA_"
      },
      "execution_count": 20,
      "outputs": []
    },
    {
      "cell_type": "markdown",
      "source": [
        "### Train the model"
      ],
      "metadata": {
        "id": "mfSGjfI67c2o"
      }
    },
    {
      "cell_type": "code",
      "source": [
        "# Finding k value\n",
        "import math\n",
        "math.sqrt(len(y_test))"
      ],
      "metadata": {
        "id": "Fy7x5A-T7eXf",
        "colab": {
          "base_uri": "https://localhost:8080/"
        },
        "outputId": "40b4a935-f08a-4db8-9d49-f803d9ad9bde"
      },
      "execution_count": 21,
      "outputs": [
        {
          "output_type": "execute_result",
          "data": {
            "text/plain": [
              "10.954451150103322"
            ]
          },
          "metadata": {},
          "execution_count": 21
        }
      ]
    },
    {
      "cell_type": "code",
      "source": [
        "from sklearn.neighbors import KNeighborsClassifier\n",
        "\n",
        "knn = KNeighborsClassifier(n_neighbors=7,p=2,metric='euclidean')\n",
        "knn.fit(X_train, y_train)"
      ],
      "metadata": {
        "id": "9RrFmu7_7l_x",
        "colab": {
          "base_uri": "https://localhost:8080/"
        },
        "outputId": "bbae43ab-495e-4be6-9fad-3f0eb9bba252"
      },
      "execution_count": 22,
      "outputs": [
        {
          "output_type": "execute_result",
          "data": {
            "text/plain": [
              "KNeighborsClassifier(metric='euclidean', n_neighbors=7)"
            ]
          },
          "metadata": {},
          "execution_count": 22
        }
      ]
    },
    {
      "cell_type": "markdown",
      "source": [
        "### Make predictions"
      ],
      "metadata": {
        "id": "QAI2JorX7oDb"
      }
    },
    {
      "cell_type": "code",
      "source": [
        "prediction = knn.predict(X_test)\n",
        "prediction"
      ],
      "metadata": {
        "id": "7Dyv-Nw-7qJz",
        "colab": {
          "base_uri": "https://localhost:8080/"
        },
        "outputId": "81f7d4b1-119e-4ebd-f5d5-d3f6f95cc7f7"
      },
      "execution_count": 23,
      "outputs": [
        {
          "output_type": "execute_result",
          "data": {
            "text/plain": [
              "array([1, 1, 1, 0, 0, 1, 1, 1, 0, 0, 0, 1, 0, 0, 0, 0, 0, 1, 1, 1, 0, 0,\n",
              "       0, 1, 1, 0, 1, 1, 0, 0, 0, 1, 1, 1, 0, 1, 0, 1, 0, 0, 0, 1, 1, 1,\n",
              "       0, 0, 1, 1, 1, 0, 0, 1, 1, 1, 1, 1, 0, 0, 0, 0, 1, 0, 0, 1, 1, 0,\n",
              "       1, 1, 0, 1, 1, 0, 1, 0, 0, 0, 1, 0, 1, 1, 1, 0, 1, 0, 1, 0, 1, 0,\n",
              "       0, 0, 0, 0, 0, 1, 0, 1, 1, 1, 1, 0, 1, 1, 0, 0, 0, 1, 0, 0, 0, 1,\n",
              "       1, 0, 1, 1, 0, 0, 1, 1, 0, 0])"
            ]
          },
          "metadata": {},
          "execution_count": 23
        }
      ]
    },
    {
      "cell_type": "markdown",
      "source": [
        "### Evaluate Predictions"
      ],
      "metadata": {
        "id": "FKnCM4a87uJl"
      }
    },
    {
      "cell_type": "code",
      "source": [
        "from sklearn.metrics import classification_report, confusion_matrix\n",
        "print(classification_report(y_test, prediction))"
      ],
      "metadata": {
        "id": "xfXfbDq47wW-",
        "colab": {
          "base_uri": "https://localhost:8080/"
        },
        "outputId": "8c681677-e57c-42f2-c736-212f2f0d859a"
      },
      "execution_count": 24,
      "outputs": [
        {
          "output_type": "stream",
          "name": "stdout",
          "text": [
            "              precision    recall  f1-score   support\n",
            "\n",
            "           0       0.85      0.83      0.84        63\n",
            "           1       0.81      0.84      0.83        57\n",
            "\n",
            "    accuracy                           0.83       120\n",
            "   macro avg       0.83      0.83      0.83       120\n",
            "weighted avg       0.83      0.83      0.83       120\n",
            "\n"
          ]
        }
      ]
    },
    {
      "cell_type": "markdown",
      "source": [
        "### Test other `k` values"
      ],
      "metadata": {
        "id": "6jywg_Ym7y5c"
      }
    },
    {
      "cell_type": "code",
      "source": [
        "error_rate = []\n",
        "for i in range(1,40):\n",
        "    \n",
        "    knn = KNeighborsClassifier(n_neighbors=i)\n",
        "    knn.fit(X_train, y_train)\n",
        "    prediction_i = knn.predict(X_test)\n",
        "    error_rate.append(np.mean(prediction_i != y_test))"
      ],
      "metadata": {
        "id": "odnlbbBM71XQ"
      },
      "execution_count": 25,
      "outputs": []
    },
    {
      "cell_type": "markdown",
      "source": [
        "### Plot Error Rate"
      ],
      "metadata": {
        "id": "uuZ6msz274C0"
      }
    },
    {
      "cell_type": "code",
      "source": [
        "plt.plot(error_rate, color='blue')\n",
        "plt.title('error rate vs. k values')\n",
        "plt.xlabel('k values')\n",
        "plt.ylabel('error rate')"
      ],
      "metadata": {
        "id": "MEFNYP7I76Go",
        "colab": {
          "base_uri": "https://localhost:8080/",
          "height": 313
        },
        "outputId": "0b2b8195-1342-4653-a257-c946a023f4ad"
      },
      "execution_count": 26,
      "outputs": [
        {
          "output_type": "execute_result",
          "data": {
            "text/plain": [
              "Text(0, 0.5, 'error rate')"
            ]
          },
          "metadata": {},
          "execution_count": 26
        },
        {
          "output_type": "display_data",
          "data": {
            "text/plain": [
              "<Figure size 432x288 with 1 Axes>"
            ],
            "image/png": "[encoded data removed]"
          },
          "metadata": {
            "needs_background": "light"
          }
        }
      ]
    },
    {
      "cell_type": "markdown",
      "source": [
        "### Use the best `k` value"
      ],
      "metadata": {
        "id": "I3191sjm792C"
      }
    },
    {
      "cell_type": "code",
      "source": [
        "knn = KNeighborsClassifier(n_neighbors=7)\n",
        "knn.fit(X_train, y_train)\n",
        "prediction= knn.predict(X_test)\n",
        "prediction"
      ],
      "metadata": {
        "id": "XJoXy1GY8ES4",
        "colab": {
          "base_uri": "https://localhost:8080/"
        },
        "outputId": "623318ce-09b2-4669-ccb7-e31853f7e58d"
      },
      "execution_count": 27,
      "outputs": [
        {
          "output_type": "execute_result",
          "data": {
            "text/plain": [
              "array([1, 1, 1, 0, 0, 1, 1, 1, 0, 0, 0, 1, 0, 0, 0, 0, 0, 1, 1, 1, 0, 0,\n",
              "       0, 1, 1, 0, 1, 1, 0, 0, 0, 1, 1, 1, 0, 1, 0, 1, 0, 0, 0, 1, 1, 1,\n",
              "       0, 0, 1, 1, 1, 0, 0, 1, 1, 1, 1, 1, 0, 0, 0, 0, 1, 0, 0, 1, 1, 0,\n",
              "       1, 1, 0, 1, 1, 0, 1, 0, 0, 0, 1, 0, 1, 1, 1, 0, 1, 0, 1, 0, 1, 0,\n",
              "       0, 0, 0, 0, 0, 1, 0, 1, 1, 1, 1, 0, 1, 1, 0, 0, 0, 1, 0, 0, 0, 1,\n",
              "       1, 0, 1, 1, 0, 0, 1, 1, 0, 0])"
            ]
          },
          "metadata": {},
          "execution_count": 27
        }
      ]
    },
    {
      "cell_type": "code",
      "source": [
        "print(classification_report(y_test, prediction))"
      ],
      "metadata": {
        "id": "V31IJ71Y8G8X",
        "colab": {
          "base_uri": "https://localhost:8080/"
        },
        "outputId": "f923df5c-b6a0-4122-b816-fcd0f1456125"
      },
      "execution_count": 28,
      "outputs": [
        {
          "output_type": "stream",
          "name": "stdout",
          "text": [
            "              precision    recall  f1-score   support\n",
            "\n",
            "           0       0.85      0.83      0.84        63\n",
            "           1       0.81      0.84      0.83        57\n",
            "\n",
            "    accuracy                           0.83       120\n",
            "   macro avg       0.83      0.83      0.83       120\n",
            "weighted avg       0.83      0.83      0.83       120\n",
            "\n"
          ]
        }
      ]
    },
    {
      "cell_type": "markdown",
      "source": [
        "## What more can I do?\n",
        "\n",
        "There is so much you can do now with just this project!\n",
        "\n",
        "Here are few suggestions that you folks must definitely try out:\n",
        "\n",
        "- Adding more genres/emotions\n",
        "- Automate creating playlists from the results\n",
        "- Test it out with bigger datasets\n",
        "- Improve the accuracy (*try other Models that you have learned*)\n",
        "- Deploy it in the cloud\n",
        "- Host the project in your GitHub profile\n",
        "- And so much more! 🚀"
      ],
      "metadata": {
        "id": "qF58bWBDeEh6"
      }
    },
    {
      "cell_type": "markdown",
      "source": [
        "## The End?\n",
        "\n",
        "*Congratulations for completing the Machine Learning Bootcamp with ACM!* 🎉\n",
        "\n",
        "Pat yourself! You deserve it! You have done great throughout the bootcamp.\n",
        "\n",
        "**But is this the end?** *Haha!* Don't worry, your journey through Machine Learning has only just started. You have an entire world that you can explore and create amazing projects with (*one that could even change the way that we live our lives*). All the best for this journey! 🙌\n",
        "\n",
        "*We, at ACM, know you'll ace it, like always!* 💪"
      ],
      "metadata": {
        "id": "O8RCEcXCfNMF"
      }
    }
  ]
}