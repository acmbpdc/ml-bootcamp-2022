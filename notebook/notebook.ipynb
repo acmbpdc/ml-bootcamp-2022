{
 "cells": [
  {
   "cell_type": "markdown",
   "id": "acd4098f-a891-4022-a9c0-cd650972b4cb",
   "metadata": {},
   "source": [
    "# Intro to CNN"
   ]
  },
  {
   "cell_type": "markdown",
   "id": "814796e9",
   "metadata": {},
   "source": [
    "So lorem lipsum\n",
    "# Headfing 1\n",
    "\n",
    "sfsdgfsbdkgjksdbgl \n",
    "\n",
    "## Heading 2\n",
    "\n",
    "sadfsdfdsfsdf\n",
    "\n",
    "### Heading 3\n",
    "\n",
    "sdfsdfsdf sf\n"
   ]
  },
  {
   "cell_type": "code",
   "execution_count": null,
   "id": "033245cb-9a08-449a-8f04-d45c4f938a77",
   "metadata": {},
   "outputs": [],
   "source": [
    "print(\"hello\")"
   ]
  }
 ],
 "metadata": {
  "kernelspec": {
   "display_name": "Python 3 (ipykernel)",
   "language": "python",
   "name": "python3"
  },
  "language_info": {
   "codemirror_mode": {
    "name": "ipython",
    "version": 3
   },
   "file_extension": ".py",
   "mimetype": "text/x-python",
   "name": "python",
   "nbconvert_exporter": "python",
   "pygments_lexer": "ipython3",
   "version": "3.10.2"
  }
 },
 "nbformat": 4,
 "nbformat_minor": 5
}
