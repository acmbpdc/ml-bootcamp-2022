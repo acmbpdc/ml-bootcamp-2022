{
 "cells": [
  {
   "cell_type": "markdown",
   "id": "0ffd6d80",
   "metadata": {},
   "source": [
    " "
   ]
  },
  {
   "cell_type": "markdown",
   "id": "17a2f024",
   "metadata": {},
   "source": [
    "# Intoduction to Machine Learning\n",
    "Insert intro here"
   ]
  },
  {
   "cell_type": "markdown",
   "id": "4cc6c317",
   "metadata": {},
   "source": [
    "## Fundamentals of Python for Machine Learning.\n",
    "Throughout this Machine Learning series we will be exploring the possibilities of ML using python. We will be using various libraries like tensorflow, numpy, pandas, scikit and other graphing libraries like pyplot and seaborn. \n",
    "\n",
    "This session will mainly be focused on the fundamentals of python required for machine leanring.\n"
   ]
  },
  {
   "cell_type": "markdown",
   "id": "71a8c876",
   "metadata": {},
   "source": [
    "## Conditionals\n",
    "By default, statements in Python script are executed sequentially from top to bottom. If the processing logic require so, the sequential flow of execution can be altered in two way:\n",
    "\n",
    "- __Conditional execution__ : a block of one or more statements will be executed if a certain expression is true.\n",
    "- __Repetitive execution__ : a block of one or more statements will be repetitively executed as long as a certain expression is true. In this section, we will cover _if_, _else_, _elif_ statements. The comparison and logical operators we learned in previous sections will be useful here.\n",
    "\n",
    "### If Condition\n",
    "\n",
    "An \"*if statement*\" is written by using the  `if`  keyword. Remember the indentation after the colon.\n",
    "\n",
    "```py\n",
    "# syntax\n",
    "if condition:\n",
    "    this part of code runs for truthy conditions\n",
    "```\n"
   ]
  },
  {
   "cell_type": "markdown",
   "id": "b2c0b9ef",
   "metadata": {},
   "source": [
    "**Example: 1**"
   ]
  },
  {
   "cell_type": "code",
   "execution_count": 19,
   "id": "5d57e666",
   "metadata": {},
   "outputs": [
    {
     "name": "stdout",
     "output_type": "stream",
     "text": [
      "A is a positive number\n"
     ]
    }
   ],
   "source": [
    "a = 3\n",
    "if a > 0:\n",
    "    print('A is a positive number')\n",
    "# A is a positive number"
   ]
  },
  {
   "cell_type": "markdown",
   "id": "489c60dc",
   "metadata": {},
   "source": [
    "As you can see in the example above, 3 is greater than 0. The condition was true and the block code was executed. "
   ]
  },
  {
   "cell_type": "markdown",
   "id": "c0f9e78f",
   "metadata": {},
   "source": [
    "\n",
    "### If Else\n",
    "\n",
    "If condition is true the first block will be executed, if not the else condition will run.\n",
    "\n",
    "```py\n",
    "# syntax\n",
    "if condition:\n",
    "    this part of code runs for truthy conditions\n",
    "else:\n",
    "     this part of code runs for false conditions\n",
    "```"
   ]
  },
  {
   "cell_type": "markdown",
   "id": "03b46dda",
   "metadata": {},
   "source": [
    "**Example:**"
   ]
  },
  {
   "cell_type": "code",
   "execution_count": 20,
   "id": "4aa7ebea",
   "metadata": {},
   "outputs": [
    {
     "name": "stdout",
     "output_type": "stream",
     "text": [
      "A is a positive number\n"
     ]
    }
   ],
   "source": [
    "a = 3\n",
    "if a < 0:\n",
    "    print('A is a negative number')\n",
    "else:\n",
    "    print('A is a positive number')\n"
   ]
  },
  {
   "cell_type": "markdown",
   "id": "64e08ba1",
   "metadata": {},
   "source": [
    "The condition above proves false, therefore the else block was executed. However, the  else  keyword catches anything which isn't caught by the preceding conditions. \n",
    "\n",
    "If we have more than 2 conditions to check, We could use _elif_."
   ]
  },
  {
   "cell_type": "markdown",
   "id": "50ba9525",
   "metadata": {},
   "source": [
    "### If Elif Else\n",
    "\n",
    "In our daily life, we make decisions on daily basis. We make decisions not by checking one or two conditions but multiple conditions. As similar to life, programming is also full of conditions. We use *elif* when we have multiple conditions.\n",
    "\n",
    "```py\n",
    "# syntax\n",
    "if condition:\n",
    "    code\n",
    "elif condition:\n",
    "    code\n",
    "else:\n",
    "    code\n",
    "\n",
    "```"
   ]
  },
  {
   "cell_type": "markdown",
   "id": "5a49393f",
   "metadata": {},
   "source": [
    "**Example:**"
   ]
  },
  {
   "cell_type": "code",
   "execution_count": 21,
   "id": "5da7e8bf",
   "metadata": {},
   "outputs": [
    {
     "name": "stdout",
     "output_type": "stream",
     "text": [
      "A is zero\n"
     ]
    }
   ],
   "source": [
    "a = 0\n",
    "if a > 0:\n",
    "    print('A is a positive number')\n",
    "elif a < 0:\n",
    "    print('A is a negative number')\n",
    "else:\n",
    "    print('A is zero')"
   ]
  },
  {
   "cell_type": "markdown",
   "id": "625d25b3",
   "metadata": {},
   "source": [
    "### Nested Conditions\n",
    "\n",
    "Conditions can be nested.\n",
    "\n",
    "```py\n",
    "# syntax\n",
    "if condition:\n",
    "    code\n",
    "    if condition:\n",
    "    code\n",
    "```\n",
    "\n",
    "**Example:**"
   ]
  },
  {
   "cell_type": "code",
   "execution_count": 23,
   "id": "637b83e3",
   "metadata": {},
   "outputs": [
    {
     "name": "stdout",
     "output_type": "stream",
     "text": [
      "A is zero\n"
     ]
    }
   ],
   "source": [
    "a = 0\n",
    "if a > 0:\n",
    "    if a % 2 == 0:\n",
    "        print('A is a positive and even integer')\n",
    "    else:\n",
    "        print('A is a positive number')\n",
    "elif a == 0:\n",
    "    print('A is zero')\n",
    "else:\n",
    "    print('A is a negative number')"
   ]
  },
  {
   "cell_type": "markdown",
   "id": "388e7017",
   "metadata": {},
   "source": [
    "[If you wat to learn more about conditional statements, click here.](https://www.w3schools.com/python/python_conditions.asp)"
   ]
  },
  {
   "cell_type": "markdown",
   "id": "fbf6e9fd",
   "metadata": {},
   "source": [
    "## Lists\n",
    "\n",
    "List: is a collection which is ordered and changeable(modifiable). Allows duplicate members. A list is collection of different data types which is ordered and modifiable(mutable). A list can be empty or it may have different data type items.\n"
   ]
  },
  {
   "cell_type": "markdown",
   "id": "600a6864",
   "metadata": {},
   "source": [
    "### Creating a list\n",
    "\n",
    "In Python we can create lists in two ways:\n",
    "\n",
    "- Using list built-in function"
   ]
  },
  {
   "cell_type": "code",
   "execution_count": 24,
   "id": "cdddffa3",
   "metadata": {},
   "outputs": [
    {
     "name": "stdout",
     "output_type": "stream",
     "text": [
      "0\n"
     ]
    }
   ],
   "source": [
    "empty_list = list() # this is an empty list, no item in the list\n",
    "print(len(empty_list)) # 0"
   ]
  },
  {
   "cell_type": "markdown",
   "id": "e398759a",
   "metadata": {},
   "source": [
    "- Using square brackets (`[]`)"
   ]
  },
  {
   "cell_type": "code",
   "execution_count": 25,
   "id": "e6cf65a6",
   "metadata": {},
   "outputs": [
    {
     "name": "stdout",
     "output_type": "stream",
     "text": [
      "0\n"
     ]
    }
   ],
   "source": [
    "empty_list = [] # this is an empty list, no item in the list\n",
    "print(len(empty_list)) # 0"
   ]
  },
  {
   "cell_type": "markdown",
   "id": "21ea36b2",
   "metadata": {},
   "source": [
    "### Accessing List Items Using Indexing\n",
    "\n",
    "We can access list items using positive and negative indexing.\n",
    "\n",
    "You'll learn more about this in the slicing section ahead."
   ]
  },
  {
   "cell_type": "markdown",
   "id": "141d85c9",
   "metadata": {},
   "source": [
    "### Unpacking List Items"
   ]
  },
  {
   "cell_type": "code",
   "execution_count": 28,
   "id": "22308cb4",
   "metadata": {},
   "outputs": [
    {
     "name": "stdout",
     "output_type": "stream",
     "text": [
      "item\n",
      "item2\n",
      "item3\n",
      "['item4', 'item5']\n"
     ]
    }
   ],
   "source": [
    "lst = ['item','item2','item3', 'item4', 'item5']\n",
    "first_item, second_item, third_item, *rest = lst\n",
    "print(first_item)     # item1\n",
    "print(second_item)    # item2\n",
    "print(third_item)     # item3\n",
    "print(rest)           # ['item4', 'item5']"
   ]
  },
  {
   "cell_type": "markdown",
   "id": "10906177",
   "metadata": {},
   "source": [
    "### Slicing Items from a List\n",
    "\n",
    "- __Positive Indexing__ : We can specify a range of positive indexes by specifying the start, end and step, the return value will be a new list. (default values for start = 0, end = len(lst) - 1 (last item), step = 1)"
   ]
  },
  {
   "cell_type": "code",
   "execution_count": 29,
   "id": "65b95ca4",
   "metadata": {},
   "outputs": [],
   "source": [
    "fruits = ['banana', 'orange', 'mango', 'lemon']\n",
    "all_fruits = fruits[0:4] # it returns all the fruits\n",
    "# this will also give the same result as the one above\n",
    "all_fruits = fruits[0:] # if we don't set where to stop it takes all the rest\n",
    "orange_and_mango = fruits[1:3] # it does not include the first index\n",
    "orange_mango_lemon = fruits[1:]\n",
    "orange_and_lemon = fruits[::2] # here we used a 3rd argument, step. It will take every 2cnd item - ['banana', 'mango']"
   ]
  },
  {
   "cell_type": "markdown",
   "id": "1f21cca8",
   "metadata": {},
   "source": [
    "- __Negative Indexing__ : We can specify a range of negative indexes by specifying the start, end and step, the return value will be a new list."
   ]
  },
  {
   "cell_type": "code",
   "execution_count": 30,
   "id": "cc064091",
   "metadata": {},
   "outputs": [],
   "source": [
    "fruits = ['banana', 'orange', 'mango', 'lemon']\n",
    "all_fruits = fruits[-4:] # it returns all the fruits\n",
    "orange_and_mango = fruits[-3:-1] # it does not include the last index,['orange', 'mango']\n",
    "orange_mango_lemon = fruits[-3:] # this will give starting from -3 to the end,['orange', 'mango', 'lemon']\n",
    "reverse_fruits = fruits[::-1] # a negative step will take the list in reverse order,['lemon', 'mango', 'orange', 'banana']"
   ]
  },
  {
   "cell_type": "markdown",
   "id": "30c918e8",
   "metadata": {},
   "source": [
    "### Modifying Lists\n",
    "\n",
    "List is a mutable or modifiable ordered collection of items. Lets modify the fruit list.\n",
    "\n"
   ]
  },
  {
   "cell_type": "code",
   "execution_count": 31,
   "id": "2588ab5c",
   "metadata": {},
   "outputs": [
    {
     "name": "stdout",
     "output_type": "stream",
     "text": [
      "['avocado', 'orange', 'mango', 'lemon']\n",
      "['avocado', 'apple', 'mango', 'lemon']\n",
      "['avocado', 'apple', 'mango', 'lime']\n"
     ]
    }
   ],
   "source": [
    "fruits = ['banana', 'orange', 'mango', 'lemon']\n",
    "fruits[0] = 'avocado'\n",
    "print(fruits)       #  ['avocado', 'orange', 'mango', 'lemon']\n",
    "fruits[1] = 'apple'\n",
    "print(fruits)       #  ['avocado', 'apple', 'mango', 'lemon']\n",
    "last_index = len(fruits) - 1\n",
    "fruits[last_index] = 'lime'\n",
    "print(fruits)        #  ['avocado', 'apple', 'mango', 'lime']"
   ]
  },
  {
   "cell_type": "markdown",
   "id": "51efb509",
   "metadata": {},
   "source": [
    "### Checking Items in a List\n",
    "\n",
    "Checking an item if it is a member of a list using *in* operator. See the example below.\n"
   ]
  },
  {
   "cell_type": "code",
   "execution_count": 32,
   "id": "4ddcda8a",
   "metadata": {},
   "outputs": [
    {
     "name": "stdout",
     "output_type": "stream",
     "text": [
      "True\n",
      "False\n"
     ]
    }
   ],
   "source": [
    "fruits = ['banana', 'orange', 'mango', 'lemon']\n",
    "does_exist = 'banana' in fruits\n",
    "print(does_exist)  # True\n",
    "does_exist = 'lime' in fruits\n",
    "print(does_exist)  # False"
   ]
  },
  {
   "cell_type": "markdown",
   "id": "c40a5991",
   "metadata": {},
   "source": [
    "### Adding Items to a List\n",
    "\n",
    "To add item to the end of an existing list we use the method *`append()`*.\n",
    "\n",
    "```py\n",
    "# syntax\n",
    "lst = list()\n",
    "lst.append(item)\n",
    "```"
   ]
  },
  {
   "cell_type": "code",
   "execution_count": 33,
   "id": "e21e52bd",
   "metadata": {},
   "outputs": [
    {
     "name": "stdout",
     "output_type": "stream",
     "text": [
      "['banana', 'orange', 'mango', 'lemon', 'apple']\n",
      "['banana', 'orange', 'mango', 'lemon', 'apple', 'lime']\n"
     ]
    }
   ],
   "source": [
    "fruits = ['banana', 'orange', 'mango', 'lemon']\n",
    "fruits.append('apple')\n",
    "print(fruits)           # ['banana', 'orange', 'mango', 'lemon', 'apple']\n",
    "fruits.append('lime')   # ['banana', 'orange', 'mango', 'lemon', 'apple', 'lime']\n",
    "print(fruits)"
   ]
  },
  {
   "cell_type": "markdown",
   "id": "d3cc29b6",
   "metadata": {},
   "source": [
    "### Inserting Items into a List\n",
    "\n",
    "We can use *insert()* method to insert a single item at a specified index in a list. Note that other items are shifted to the right. The *`insert()`* methods takes two arguments:index and an item to insert.\n",
    "\n",
    "```py\n",
    "# syntax\n",
    "lst = ['item1', 'item2']\n",
    "lst.insert(index, item)\n",
    "```"
   ]
  },
  {
   "cell_type": "code",
   "execution_count": 35,
   "id": "ffefe96e",
   "metadata": {},
   "outputs": [
    {
     "name": "stdout",
     "output_type": "stream",
     "text": [
      "['banana', 'orange', 'apple', 'mango', 'lemon']\n",
      "['banana', 'orange', 'apple', 'lime', 'mango', 'lemon']\n"
     ]
    }
   ],
   "source": [
    "fruits = ['banana', 'orange', 'mango', 'lemon']\n",
    "fruits.insert(2, 'apple') # insert apple between orange and mango\n",
    "print(fruits)           # ['banana', 'orange', 'apple', 'mango', 'lemon']\n",
    "fruits.insert(3, 'lime')   # ['banana', 'orange', 'apple', 'lime', 'mango', 'lemon']\n",
    "print(fruits)"
   ]
  },
  {
   "cell_type": "markdown",
   "id": "82d3dfa2",
   "metadata": {},
   "source": [
    "### Removing Items from a List\n",
    "\n",
    "The `remove()` method removes a specified item from a list\n",
    "\n",
    "```py\n",
    "# syntax\n",
    "lst = ['item1', 'item2']\n",
    "lst.remove(item)\n",
    "```"
   ]
  },
  {
   "cell_type": "code",
   "execution_count": 36,
   "id": "2d24f114",
   "metadata": {},
   "outputs": [
    {
     "name": "stdout",
     "output_type": "stream",
     "text": [
      "['orange', 'mango', 'lemon', 'banana']\n",
      "['orange', 'mango', 'banana']\n"
     ]
    }
   ],
   "source": [
    "fruits = ['banana', 'orange', 'mango', 'lemon', 'banana']\n",
    "fruits.remove('banana')\n",
    "print(fruits)  # ['orange', 'mango', 'lemon', 'banana'] - this method removes the first occurrence of the item in the list\n",
    "fruits.remove('lemon')\n",
    "print(fruits)  # ['orange', 'mango', 'banana']"
   ]
  },
  {
   "cell_type": "markdown",
   "id": "a5e23777",
   "metadata": {},
   "source": [
    "### Removing Items Using Pop\n",
    "\n",
    "The *`pop()`* method removes the specified index, (or the last item if index is not specified):\n",
    "\n",
    "```py\n",
    "# syntax\n",
    "lst = ['item1', 'item2']\n",
    "lst.pop()       # last item\n",
    "lst.pop(index)\n",
    "```"
   ]
  },
  {
   "cell_type": "code",
   "execution_count": 37,
   "id": "74feeeb7",
   "metadata": {},
   "outputs": [
    {
     "name": "stdout",
     "output_type": "stream",
     "text": [
      "['banana', 'orange', 'mango']\n",
      "['orange', 'mango']\n"
     ]
    }
   ],
   "source": [
    "fruits = ['banana', 'orange', 'mango', 'lemon']\n",
    "fruits.pop()\n",
    "print(fruits)       # ['banana', 'orange', 'mango']\n",
    "\n",
    "fruits.pop(0)\n",
    "print(fruits)       # ['orange', 'mango']"
   ]
  },
  {
   "cell_type": "markdown",
   "id": "c2047629",
   "metadata": {},
   "source": [
    "### Removing Items Using Del\n",
    "\n",
    "The *`del`* keyword removes the specified index and it can also be used to delete items within index range. It can also delete the list completely\n",
    "\n",
    "```py\n",
    "# syntax\n",
    "lst = ['item1', 'item2']\n",
    "del lst[index] # only a single item\n",
    "del lst        # to delete the list completely\n",
    "```"
   ]
  },
  {
   "cell_type": "code",
   "execution_count": 39,
   "id": "eff439e1",
   "metadata": {},
   "outputs": [
    {
     "name": "stdout",
     "output_type": "stream",
     "text": [
      "['orange', 'mango', 'lemon', 'kiwi', 'lime']\n",
      "['orange', 'lemon', 'kiwi', 'lime']\n",
      "['orange', 'lime']\n"
     ]
    },
    {
     "ename": "NameError",
     "evalue": "name 'fruits' is not defined",
     "output_type": "error",
     "traceback": [
      "\u001b[0;31m---------------------------------------------------------------------------\u001b[0m",
      "\u001b[0;31mNameError\u001b[0m                                 Traceback (most recent call last)",
      "\u001b[0;32m<ipython-input-39-8f67a3380e85>\u001b[0m in \u001b[0;36m<module>\u001b[0;34m\u001b[0m\n\u001b[1;32m      7\u001b[0m \u001b[0mprint\u001b[0m\u001b[0;34m(\u001b[0m\u001b[0mfruits\u001b[0m\u001b[0;34m)\u001b[0m       \u001b[0;31m# ['orange', 'lime']\u001b[0m\u001b[0;34m\u001b[0m\u001b[0;34m\u001b[0m\u001b[0m\n\u001b[1;32m      8\u001b[0m \u001b[0;32mdel\u001b[0m \u001b[0mfruits\u001b[0m\u001b[0;34m\u001b[0m\u001b[0;34m\u001b[0m\u001b[0m\n\u001b[0;32m----> 9\u001b[0;31m \u001b[0mprint\u001b[0m\u001b[0;34m(\u001b[0m\u001b[0mfruits\u001b[0m\u001b[0;34m)\u001b[0m       \u001b[0;31m# This should give: NameError: name 'fruits' is not defined\u001b[0m\u001b[0;34m\u001b[0m\u001b[0;34m\u001b[0m\u001b[0m\n\u001b[0m",
      "\u001b[0;31mNameError\u001b[0m: name 'fruits' is not defined"
     ]
    }
   ],
   "source": [
    "fruits = ['banana', 'orange', 'mango', 'lemon', 'kiwi', 'lime']\n",
    "del fruits[0]\n",
    "print(fruits)       # ['orange', 'mango', 'lemon', 'kiwi', 'lime']\n",
    "del fruits[1]\n",
    "print(fruits)       # ['orange', 'lemon', 'kiwi', 'lime']\n",
    "del fruits[1:3]     # this deletes items between given indexes, so it does not delete the item with index 3!\n",
    "print(fruits)       # ['orange', 'lime']\n",
    "del fruits\n",
    "print(fruits)       # This should give: NameError: name 'fruits' is not defined"
   ]
  },
  {
   "cell_type": "markdown",
   "id": "2b053f72",
   "metadata": {},
   "source": [
    "### Clearing List Items\n",
    "\n",
    "The *`clear()`* method empties the list:\n",
    "\n",
    "```py\n",
    "# syntax\n",
    "lst = ['item1', 'item2']\n",
    "lst.clear()\n",
    "```\n"
   ]
  },
  {
   "cell_type": "code",
   "execution_count": 40,
   "id": "dfad121b",
   "metadata": {},
   "outputs": [
    {
     "name": "stdout",
     "output_type": "stream",
     "text": [
      "[]\n"
     ]
    }
   ],
   "source": [
    "fruits = ['banana', 'orange', 'mango', 'lemon']\n",
    "fruits.clear()\n",
    "print(fruits)       # []"
   ]
  },
  {
   "cell_type": "markdown",
   "id": "faa88ba7",
   "metadata": {},
   "source": [
    "### Copying a List\n",
    "\n",
    "It is possible to copy a list by reassigning it to a new variable in the following way: list2 = list1. Now, list2 is a reference of list1, any changes we make in list2 will also modify the original, list2. But there are lots of case in which we do not like to modify the original instead we like to have a different copy. One of way of avoiding the problem above is using __`copy()`__.\n",
    "\n",
    "```py\n",
    "# syntax\n",
    "lst = ['item1', 'item2']\n",
    "lst_copy = lst.copy()\n",
    "```"
   ]
  },
  {
   "cell_type": "code",
   "execution_count": 41,
   "id": "3c3e1da7",
   "metadata": {},
   "outputs": [
    {
     "name": "stdout",
     "output_type": "stream",
     "text": [
      "['banana', 'orange', 'mango', 'lemon']\n"
     ]
    }
   ],
   "source": [
    "fruits = ['banana', 'orange', 'mango', 'lemon']\n",
    "fruits_copy = fruits.copy()\n",
    "print(fruits_copy)       # ['banana', 'orange', 'mango', 'lemon']"
   ]
  },
  {
   "cell_type": "markdown",
   "id": "90840a56",
   "metadata": {},
   "source": [
    "### Counting Items in a List\n",
    "\n",
    "The *`count()`* method returns the number of times an item appears in a list:\n",
    "\n",
    "```py\n",
    "# syntax\n",
    "lst = ['item1', 'item2']\n",
    "lst.count(item)\n",
    "```"
   ]
  },
  {
   "cell_type": "code",
   "execution_count": 42,
   "id": "57a5908b",
   "metadata": {},
   "outputs": [
    {
     "name": "stdout",
     "output_type": "stream",
     "text": [
      "1\n",
      "3\n"
     ]
    }
   ],
   "source": [
    "fruits = ['banana', 'orange', 'mango', 'lemon']\n",
    "print(fruits.count('orange'))   # 1\n",
    "ages = [22, 19, 24, 25, 26, 24, 25, 24]\n",
    "print(ages.count(24))           # 3"
   ]
  },
  {
   "cell_type": "markdown",
   "id": "881c463c",
   "metadata": {},
   "source": [
    "### Finding Index of an Item\n",
    "\n",
    "The *`index()`* method returns the index of an item in the list:\n",
    "\n",
    "```py\n",
    "# syntax\n",
    "lst = ['item1', 'item2']\n",
    "lst.index(item)\n",
    "```"
   ]
  },
  {
   "cell_type": "code",
   "execution_count": 43,
   "id": "6f963829",
   "metadata": {},
   "outputs": [
    {
     "name": "stdout",
     "output_type": "stream",
     "text": [
      "1\n",
      "2\n"
     ]
    }
   ],
   "source": [
    "fruits = ['banana', 'orange', 'mango', 'lemon']\n",
    "print(fruits.index('orange'))   # 1\n",
    "ages = [22, 19, 24, 25, 26, 24, 25, 24]\n",
    "print(ages.index(24))           # 2, the first occurrence"
   ]
  },
  {
   "cell_type": "markdown",
   "id": "83842952",
   "metadata": {},
   "source": [
    "### Reversing a List\n",
    "\n",
    "The *`reverse()`* method reverses the order of a list.\n",
    "\n",
    "```py\n",
    "# syntax\n",
    "lst = ['item1', 'item2']\n",
    "lst.reverse()\n",
    "```"
   ]
  },
  {
   "cell_type": "code",
   "execution_count": 44,
   "id": "189ca953",
   "metadata": {},
   "outputs": [
    {
     "name": "stdout",
     "output_type": "stream",
     "text": [
      "['lemon', 'mango', 'orange', 'banana']\n",
      "[24, 25, 24, 26, 25, 24, 19, 22]\n"
     ]
    }
   ],
   "source": [
    "fruits = ['banana', 'orange', 'mango', 'lemon']\n",
    "fruits.reverse()\n",
    "print(fruits) # ['lemon', 'mango', 'orange', 'banana']\n",
    "ages = [22, 19, 24, 25, 26, 24, 25, 24]\n",
    "ages.reverse()\n",
    "print(ages) # [24, 25, 24, 26, 25, 24, 19, 22]"
   ]
  },
  {
   "cell_type": "markdown",
   "id": "7a57f34e",
   "metadata": {},
   "source": [
    "### Sorting List Items\n",
    "\n",
    "To sort lists we can use _`sort()`_ method or _`sorted()`_ built-in functions. The _sort()_ method reorders the list items in ascending order and modifies the original list. If an argument of _`sort()`_ method reverse is equal to true, it will arrange the list in descending order.\n",
    "\n",
    "- `sort()`: this method modifies the original list\n",
    "\n",
    "```py\n",
    "#syntax\n",
    "lst = ['item1', 'item2']\n",
    "lst.sort()                # ascending\n",
    "lst.sort(reverse=True)    # descending\n",
    "```"
   ]
  },
  {
   "cell_type": "markdown",
   "id": "54a871eb",
   "metadata": {},
   "source": [
    "**Example:**"
   ]
  },
  {
   "cell_type": "code",
   "execution_count": 45,
   "id": "e2cf7d90",
   "metadata": {},
   "outputs": [
    {
     "name": "stdout",
     "output_type": "stream",
     "text": [
      "['banana', 'lemon', 'mango', 'orange']\n",
      "['orange', 'mango', 'lemon', 'banana']\n",
      "[19, 22, 24, 24, 24, 25, 25, 26]\n",
      "[26, 25, 25, 24, 24, 24, 22, 19]\n"
     ]
    }
   ],
   "source": [
    "fruits = ['banana', 'orange', 'mango', 'lemon']\n",
    "fruits.sort()\n",
    "print(fruits)             # sorted in alphabetical order, ['banana', 'lemon', 'mango', 'orange']\n",
    "fruits.sort(reverse=True)\n",
    "print(fruits) # ['orange', 'mango', 'lemon', 'banana']\n",
    "ages = [22, 19, 24, 25, 26, 24, 25, 24]\n",
    "ages.sort()\n",
    "print(ages) #  [19, 22, 24, 24, 24, 25, 25, 26]\n",
    "\n",
    "ages.sort(reverse=True)\n",
    "print(ages) #  [26, 25, 25, 24, 24, 24, 22, 19]"
   ]
  },
  {
   "cell_type": "markdown",
   "id": "f8693428",
   "metadata": {},
   "source": [
    "`sorted()`: returns the ordered list without modifying the original list\n",
    "\n",
    "**Example:**"
   ]
  },
  {
   "cell_type": "code",
   "execution_count": 47,
   "id": "a80f9ab2",
   "metadata": {},
   "outputs": [
    {
     "name": "stdout",
     "output_type": "stream",
     "text": [
      "['banana', 'lemon', 'mango', 'orange']\n",
      "['orange', 'mango', 'lemon', 'banana']\n"
     ]
    }
   ],
   "source": [
    "fruits = ['banana', 'orange', 'mango', 'lemon']\n",
    "print(sorted(fruits))   # ['banana', 'lemon', 'mango', 'orange']\n",
    "# Reverse order\n",
    "fruits = ['banana', 'orange', 'mango', 'lemon']\n",
    "fruits = sorted(fruits,reverse=True)\n",
    "print(fruits) "
   ]
  },
  {
   "cell_type": "markdown",
   "id": "5c586fc7",
   "metadata": {},
   "source": [
    "## Tuples\n",
    "A tuple is a collection of different data types which is ordered and unchangeable (immutable). Tuples are written with round brackets, `()`. Once a tuple is created, we cannot change its values.\n",
    "\n",
    "We cannot use add, insert, remove methods in a tuple because it is not modifiable (mutable). Unlike list, tuple has few methods. Methods related to tuples:\n",
    "\n",
    "-   `tuple()`: to create an empty tuple\n",
    "-   `count()`: to count the number of a specified item in a tuple\n",
    "-   `index()`: to find the index of a specified item in a tuple\n",
    "-   operator: to join two or more tuples and to create a new tuple\n",
    "\n",
    "### Creating a Tuple\n",
    "\n",
    "- Empty tuple: Creating an empty tuple\n",
    "\n",
    "```py\n",
    "# syntax\n",
    "empty_tuple = ()\n",
    "# or using the tuple constructor\n",
    "empty_tuple = tuple()\n",
    "```\n",
    "\n",
    "### Tuple length\n",
    "\n",
    "We use the _`len()`_ method to get the length of a tuple.\n",
    "\n",
    "```py\n",
    "# syntax\n",
    "tpl = ('item1', 'item2', 'item3')\n",
    "print(len(tpl))\n",
    "```\n",
    "\n",
    "### Accessing Tuple Items\n",
    "\n",
    "- __Positive Indexing__: Similar to the list data type we use positive or negative indexing to access tuple items.\n",
    "\n",
    "```py\n",
    "# Syntax\n",
    "tpl = ('item1', 'item2', 'item3')\n",
    "first_item = tpl[0]\n",
    "second_item = tpl[1]\n",
    "```\n",
    "\n",
    "\n",
    "- __Negative indexing__: Negative indexing means beginning from the end, -1 refers to the last item, -2 refers to the second last and the negative of the list/tuple length refers to the first item.\n",
    "\n",
    "```py\n",
    "# Syntax\n",
    "tpl = ('item1', 'item2', 'item3','item4')\n",
    "first_item = tpl[-4]\n",
    "second_item = tpl[-3]\n",
    "```"
   ]
  },
  {
   "cell_type": "markdown",
   "id": "65b300a0",
   "metadata": {},
   "source": [
    "### Changing Tuples to Lists\n",
    "\n",
    "We can change tuples to lists and lists to tuples. Tuple is immutable if we want to modify a tuple we should change it to a list.\n",
    "\n",
    "```py\n",
    "# Syntax\n",
    "tpl = ('item1', 'item2', 'item3','item4')\n",
    "lst = list(tpl)\n",
    "```"
   ]
  },
  {
   "cell_type": "code",
   "execution_count": 48,
   "id": "bb48c419",
   "metadata": {},
   "outputs": [
    {
     "name": "stdout",
     "output_type": "stream",
     "text": [
      "['apple', 'orange', 'mango', 'lemon']\n",
      "('apple', 'orange', 'mango', 'lemon')\n"
     ]
    }
   ],
   "source": [
    "fruits = ('banana', 'orange', 'mango', 'lemon')\n",
    "fruits = list(fruits)\n",
    "fruits[0] = 'apple'\n",
    "print(fruits)     # ['apple', 'orange', 'mango', 'lemon']\n",
    "fruits = tuple(fruits)\n",
    "print(fruits)     # ('apple', 'orange', 'mango', 'lemon')"
   ]
  },
  {
   "cell_type": "markdown",
   "id": "dca01b75",
   "metadata": {},
   "source": [
    "## Dictionaries\n",
    "\n",
    "Dictionaries are used to store data values in key:value pairs.\n",
    "A dictionary is a collection which is ordered*, changeable and does not allow duplicates.\n",
    "Here's how a dictionary is declared in python:"
   ]
  },
  {
   "cell_type": "markdown",
   "id": "72b21080",
   "metadata": {},
   "source": [
    "### Declaring a dictionary in python"
   ]
  },
  {
   "cell_type": "code",
   "execution_count": 1,
   "id": "95617604",
   "metadata": {},
   "outputs": [
    {
     "name": "stdout",
     "output_type": "stream",
     "text": [
      "{'branch': 'CS', 'students': 100, 'year': 2021, 'Marks': [1, 3, 2, 4, 2, 3, 4]}\n"
     ]
    }
   ],
   "source": [
    "thisdict = {\n",
    "  \"branch\": \"CS\",\n",
    "  \"students\": 100,\n",
    "  \"year\": 2021,\n",
    "  \"Marks\" : [1,3,2,4,2,3,4]\n",
    "}\n",
    "print(thisdict) #{'branch': 'CS', 'students': 100, 'year': 2021, 'Marks': [1, 3, 2, 4, 2, 3, 4]}"
   ]
  },
  {
   "cell_type": "markdown",
   "id": "c5f8c284",
   "metadata": {},
   "source": [
    "### Here's how we retrieve values from a dictionary"
   ]
  },
  {
   "cell_type": "code",
   "execution_count": 4,
   "id": "e636c728",
   "metadata": {},
   "outputs": [
    {
     "name": "stdout",
     "output_type": "stream",
     "text": [
      "CS\n"
     ]
    }
   ],
   "source": [
    "thisdict = {\n",
    "  \"branch\": \"CS\",\n",
    "  \"students\": 100,\n",
    "  \"year\": 2021,\n",
    "}\n",
    "print(thisdict[\"branch\"]) #CS "
   ]
  },
  {
   "cell_type": "markdown",
   "id": "8f274997",
   "metadata": {},
   "source": [
    "### Access Dictionary Items\n",
    "We can store the values of dictionary items as shown below."
   ]
  },
  {
   "cell_type": "code",
   "execution_count": 6,
   "id": "cb6d404e",
   "metadata": {},
   "outputs": [],
   "source": [
    "x = thisdict[\"year\"]"
   ]
  },
  {
   "cell_type": "markdown",
   "id": "243bdf74",
   "metadata": {},
   "source": [
    "Alternatively we can use the get to get the same result:"
   ]
  },
  {
   "cell_type": "code",
   "execution_count": 12,
   "id": "7192a376",
   "metadata": {},
   "outputs": [],
   "source": [
    "x = thisdict.get(\"students\")"
   ]
  },
  {
   "cell_type": "markdown",
   "id": "cdd1edba",
   "metadata": {},
   "source": [
    "### Get Keys\n",
    "\n",
    "The `keys()` method will return a list of all the keys in the dictionary."
   ]
  },
  {
   "cell_type": "code",
   "execution_count": 14,
   "id": "0646391a",
   "metadata": {},
   "outputs": [],
   "source": [
    "x = thisdict.keys()"
   ]
  },
  {
   "cell_type": "markdown",
   "id": "a26ca665",
   "metadata": {},
   "source": [
    "We can add new items(keys and values) to a dictionary by assigning them in the following way:"
   ]
  },
  {
   "cell_type": "code",
   "execution_count": 15,
   "id": "c0515cf9",
   "metadata": {},
   "outputs": [
    {
     "name": "stdout",
     "output_type": "stream",
     "text": [
      "dict_keys(['brand', 'model', 'year'])\n",
      "dict_keys(['brand', 'model', 'year', 'color'])\n"
     ]
    }
   ],
   "source": [
    "car = {\n",
    "\"brand\": \"Ford\",\n",
    "\"model\": \"Mustang\",\n",
    "\"year\": 1964\n",
    "}\n",
    "\n",
    "x = car.keys()\n",
    "\n",
    "print(x) #before the change\n",
    "#dict_keys(['brand', 'model', 'year'])\n",
    "\n",
    "car[\"color\"] = \"white\"\n",
    "\n",
    "print(x) #after the change\n",
    "#dict_keys(['brand', 'model', 'year', 'color'])"
   ]
  },
  {
   "cell_type": "markdown",
   "id": "9ac5f13e",
   "metadata": {},
   "source": [
    "### Get Values"
   ]
  },
  {
   "cell_type": "markdown",
   "id": "f5184b92",
   "metadata": {},
   "source": [
    "The values() method will return a list of all the values in the dictionary."
   ]
  },
  {
   "cell_type": "code",
   "execution_count": 16,
   "id": "cc06009d",
   "metadata": {},
   "outputs": [],
   "source": [
    "x = thisdict.values()"
   ]
  },
  {
   "cell_type": "markdown",
   "id": "52d0db87",
   "metadata": {},
   "source": [
    "Here's how we modify the values for any of the keys in a dictionary."
   ]
  },
  {
   "cell_type": "code",
   "execution_count": 17,
   "id": "33cfd75e",
   "metadata": {},
   "outputs": [
    {
     "name": "stdout",
     "output_type": "stream",
     "text": [
      "dict_values(['Ford', 'Mustang', 1964])\n",
      "dict_values(['Ford', 'Mustang', 2020])\n"
     ]
    }
   ],
   "source": [
    "car = {\n",
    "\"brand\": \"Ford\",\n",
    "\"model\": \"Mustang\",\n",
    "\"year\": 1964\n",
    "}\n",
    "\n",
    "x = car.values()\n",
    "\n",
    "print(x) #before the change\n",
    "#dict_values(['Ford', 'Mustang', 1964])\n",
    "\n",
    "car[\"year\"] = 2020\n",
    "\n",
    "print(x) #after the change\n",
    "#dict_values(['Ford', 'Mustang', 2020])"
   ]
  },
  {
   "cell_type": "markdown",
   "id": "66379277",
   "metadata": {},
   "source": [
    "## Functions\n",
    "A function is a block of code which only runs when it is called. You can pass data, known as parameters, into a function. A function can return data as a result."
   ]
  },
  {
   "cell_type": "markdown",
   "id": "b2a4302f",
   "metadata": {},
   "source": [
    "### Creating a Function"
   ]
  },
  {
   "cell_type": "code",
   "execution_count": 18,
   "id": "56d24de8",
   "metadata": {},
   "outputs": [],
   "source": [
    "def my_function():\n",
    "  print(\"Hello from a function\")"
   ]
  },
  {
   "cell_type": "markdown",
   "id": "e1446b9f",
   "metadata": {},
   "source": [
    "The above code would not work until it is called. To call a function, use the function name followed by parenthesis:"
   ]
  },
  {
   "cell_type": "code",
   "execution_count": 19,
   "id": "2f467eed",
   "metadata": {},
   "outputs": [
    {
     "name": "stdout",
     "output_type": "stream",
     "text": [
      "Hello from a function\n"
     ]
    }
   ],
   "source": [
    "def my_function():\n",
    "  print(\"Hello from a function\")\n",
    "\n",
    "my_function()"
   ]
  },
  {
   "cell_type": "markdown",
   "id": "aa0a9d24",
   "metadata": {},
   "source": [
    "### Functions with Arguments\n",
    "Information can be passed into functions as arguments.\n",
    "\n",
    "Arguments are specified after the function name, inside the parentheses. You can add as many arguments as you want, just separate them with a comma.\n",
    "\n",
    "Parameter and arguments can be used as the same thing."
   ]
  },
  {
   "cell_type": "code",
   "execution_count": 20,
   "id": "36ae7904",
   "metadata": {},
   "outputs": [
    {
     "name": "stdout",
     "output_type": "stream",
     "text": [
      "Emil Refsnes\n",
      "Tobias Refsnes\n",
      "Linus Refsnes\n"
     ]
    }
   ],
   "source": [
    "def my_function(fname):\n",
    "  print(fname + \" Refsnes\")\n",
    "\n",
    "my_function(\"Emil\")\n",
    "my_function(\"Tobias\")\n",
    "my_function(\"Linus\")"
   ]
  },
  {
   "cell_type": "markdown",
   "id": "05598730",
   "metadata": {},
   "source": [
    "By default, a function must be called with the correct number of arguments. Meaning that if your function expects 2 arguments, you have to call the function with 2 arguments, not more, and not less."
   ]
  },
  {
   "cell_type": "markdown",
   "id": "e7608869",
   "metadata": {},
   "source": [
    "### Arbitrary Arguments, *args\n",
    "\n",
    "If the number of arguments are not known, then we use `*` before the argument. This way the function will receive a tuple of arguments, and can access the items accordingly:"
   ]
  },
  {
   "cell_type": "code",
   "execution_count": 21,
   "id": "37f5070e",
   "metadata": {},
   "outputs": [
    {
     "name": "stdout",
     "output_type": "stream",
     "text": [
      "Emil\n",
      "Tobias\n",
      "Linus\n"
     ]
    }
   ],
   "source": [
    "def my_function(*kids):\n",
    "  for item in kids:\n",
    "    print(item)\n",
    "\n",
    "my_function(\"Emil\", \"Tobias\", \"Linus\")"
   ]
  },
  {
   "cell_type": "markdown",
   "id": "a7ba4d3b",
   "metadata": {},
   "source": [
    "### Keyword Arguments\n",
    "You can also send arguments with the *key* = *value* syntax.\n",
    "\n",
    "This way the order of the arguments does not matter.\n",
    "\n",
    "This reduces the number of errors as we do not need to consider the position of the parameters as discussed earlier."
   ]
  },
  {
   "cell_type": "code",
   "execution_count": 22,
   "id": "d95a2588",
   "metadata": {},
   "outputs": [
    {
     "name": "stdout",
     "output_type": "stream",
     "text": [
      "The youngest child is Linus\n"
     ]
    }
   ],
   "source": [
    "def my_function(child3, child2, child1):\n",
    "  print(\"The youngest child is \" + child3)\n",
    "\n",
    "my_function(child1 = \"Emil\", child2 = \"Tobias\", child3 = \"Linus\")"
   ]
  },
  {
   "cell_type": "markdown",
   "id": "387ecaef",
   "metadata": {},
   "source": [
    "### Arbitrary Keyword Arguments, **kwargs\n",
    "\n",
    "If you do not know how many keyword arguments that will be passed into your function, add two asterisk: ** before the parameter name in the function definition."
   ]
  },
  {
   "cell_type": "code",
   "execution_count": 23,
   "id": "93cfd39d",
   "metadata": {},
   "outputs": [
    {
     "name": "stdout",
     "output_type": "stream",
     "text": [
      "His last name is Refsnes\n"
     ]
    }
   ],
   "source": [
    "def my_function(**kid):\n",
    "  print(\"His last name is \" + kid[\"lname\"])\n",
    "\n",
    "my_function(fname = \"Tobias\", lname = \"Refsnes\")"
   ]
  },
  {
   "cell_type": "markdown",
   "id": "106fa1a4",
   "metadata": {},
   "source": [
    "### Default Parameter Value\n",
    "The following example shows how to use a default parameter value.\n",
    "\n",
    "If we call the function without argument, it uses the default value:"
   ]
  },
  {
   "cell_type": "code",
   "execution_count": 24,
   "id": "14fa4e33",
   "metadata": {},
   "outputs": [
    {
     "name": "stdout",
     "output_type": "stream",
     "text": [
      "I am from Sweden\n",
      "I am from India\n",
      "I am from Norway\n",
      "I am from Brazil\n"
     ]
    }
   ],
   "source": [
    "def my_function(country = \"Norway\"):\n",
    "  print(\"I am from \" + country)\n",
    "\n",
    "my_function(\"Sweden\") #Sweden\n",
    "my_function(\"India\") #India\n",
    "my_function() #Norway\n",
    "my_function(\"Brazil\") # Brazil"
   ]
  },
  {
   "cell_type": "markdown",
   "id": "f7c68381",
   "metadata": {},
   "source": [
    "You can send any data types of argument to a function (string, number, list, dictionary etc.), and it will be treated as the same data type inside the function.\n",
    "\n",
    "E.g. if you send a List as an argument, it will still be a List when it reaches the function:"
   ]
  },
  {
   "cell_type": "code",
   "execution_count": 26,
   "id": "bcf2087c",
   "metadata": {},
   "outputs": [
    {
     "name": "stdout",
     "output_type": "stream",
     "text": [
      "apple\n",
      "banana\n",
      "cherry\n"
     ]
    }
   ],
   "source": [
    "def my_function(food):\n",
    "  for x in food:\n",
    "    print(x)\n",
    "\n",
    "fruits = [\"apple\", \"banana\", \"cherry\"]\n",
    "\n",
    "my_function(fruits)"
   ]
  },
  {
   "cell_type": "markdown",
   "id": "5ec2add4",
   "metadata": {},
   "source": [
    "### Return Values\n",
    "\n",
    "To let a function `return` a value, use the return statement:"
   ]
  },
  {
   "cell_type": "code",
   "execution_count": 27,
   "id": "9c096cda",
   "metadata": {},
   "outputs": [
    {
     "name": "stdout",
     "output_type": "stream",
     "text": [
      "15\n",
      "25\n",
      "45\n"
     ]
    }
   ],
   "source": [
    "def my_function(x):\n",
    "  return 5 * x\n",
    "\n",
    "print(my_function(3)) #15\n",
    "print(my_function(5)) #25\n",
    "print(my_function(9)) #45"
   ]
  },
  {
   "cell_type": "markdown",
   "id": "a6835ca0",
   "metadata": {},
   "source": [
    "## Data Types in Python\n",
    "Variables can store data of different types, and different types can do different things. **The important built-in Python data types include:**\n",
    "- Numerics : `int`, `float`, `complex`\n",
    "- Text : `str`\n",
    "- Booleans : `bool`\n",
    "- Sequences : `list`, `tuple`, `range`\n",
    "- Mappings : `dict`\n",
    "- Classes\n",
    "- Functions\n",
    "\n",
    "### Getting the Data type\n",
    "\n",
    "You can get the data type of any object by using the  `type()`  function:\n"
   ]
  },
  {
   "cell_type": "code",
   "execution_count": 1,
   "id": "0207aeac",
   "metadata": {},
   "outputs": [
    {
     "name": "stdout",
     "output_type": "stream",
     "text": [
      "<class 'int'>\n"
     ]
    }
   ],
   "source": [
    "x = 5\n",
    "print(type(x))"
   ]
  },
  {
   "cell_type": "markdown",
   "id": "e2215a4e",
   "metadata": {},
   "source": [
    "### Setting a Specific Data Type"
   ]
  },
  {
   "cell_type": "code",
   "execution_count": 4,
   "id": "bf78f394",
   "metadata": {},
   "outputs": [
    {
     "name": "stdout",
     "output_type": "stream",
     "text": [
      "<class 'str'>\n"
     ]
    }
   ],
   "source": [
    "x = str(\"Hello World\")\n",
    "print(type(x))"
   ]
  },
  {
   "cell_type": "markdown",
   "id": "61910a90",
   "metadata": {},
   "source": [
    "## Loops"
   ]
  },
  {
   "cell_type": "markdown",
   "id": "8a8b527e",
   "metadata": {},
   "source": [
    "### For Loops"
   ]
  },
  {
   "cell_type": "markdown",
   "id": "ff8a5cf0",
   "metadata": {},
   "source": [
    "A _for_ keyword is used to make a for loop, similar with other programming languages, but with some syntax differences. Loop is used for iterating over a sequence (that is either a list, a tuple, a dictionary, a set, or a string).\n",
    "\n",
    "- For loop with list"
   ]
  },
  {
   "cell_type": "code",
   "execution_count": 6,
   "id": "5cf4fa60",
   "metadata": {},
   "outputs": [
    {
     "ename": "SyntaxError",
     "evalue": "unexpected EOF while parsing (<ipython-input-6-f3787b9b8b01>, line 3)",
     "output_type": "error",
     "traceback": [
      "\u001b[0;36m  File \u001b[0;32m\"<ipython-input-6-f3787b9b8b01>\"\u001b[0;36m, line \u001b[0;32m3\u001b[0m\n\u001b[0;31m    #code goes here\u001b[0m\n\u001b[0m                   ^\u001b[0m\n\u001b[0;31mSyntaxError\u001b[0m\u001b[0;31m:\u001b[0m unexpected EOF while parsing\n"
     ]
    }
   ],
   "source": [
    "# syntax\n",
    "for iterator in lst:\n",
    "    #code goes here"
   ]
  },
  {
   "cell_type": "markdown",
   "id": "679c6517",
   "metadata": {},
   "source": [
    "**Example:**"
   ]
  },
  {
   "cell_type": "code",
   "execution_count": 8,
   "id": "f4e6a1c1",
   "metadata": {},
   "outputs": [
    {
     "name": "stdout",
     "output_type": "stream",
     "text": [
      "0\n",
      "1\n",
      "2\n",
      "3\n",
      "4\n",
      "5\n"
     ]
    }
   ],
   "source": [
    "numbers = [0, 1, 2, 3, 4, 5]\n",
    "for number in numbers: # number is temporary name to refer to the list's items, valid only inside this loop\n",
    "    print(number)       # the numbers will be printed line by line, from 0 to 5"
   ]
  },
  {
   "cell_type": "markdown",
   "id": "b8e58dfd",
   "metadata": {},
   "source": [
    "- For loop with string\n",
    "```py\n",
    "# syntax\n",
    "for iterator in string:\n",
    "    code goes here\n",
    "```"
   ]
  },
  {
   "cell_type": "markdown",
   "id": "94cf1cf5",
   "metadata": {},
   "source": [
    "**Example:**"
   ]
  },
  {
   "cell_type": "code",
   "execution_count": 9,
   "id": "2f05faf8",
   "metadata": {},
   "outputs": [
    {
     "name": "stdout",
     "output_type": "stream",
     "text": [
      "P\n",
      "y\n",
      "t\n",
      "h\n",
      "o\n",
      "n\n",
      "P\n",
      "y\n",
      "t\n",
      "h\n",
      "o\n",
      "n\n"
     ]
    }
   ],
   "source": [
    "language = 'Python'\n",
    "for letter in language:\n",
    "    print(letter)\n",
    "\n",
    "\n",
    "for i in range(len(language)):\n",
    "    print(language[i])"
   ]
  },
  {
   "cell_type": "markdown",
   "id": "c62aa11f",
   "metadata": {},
   "source": [
    "- For loop with tuple\n",
    "```py\n",
    "# syntax\n",
    "for iterator in tpl:\n",
    "    code goes here\n",
    "```"
   ]
  },
  {
   "cell_type": "markdown",
   "id": "cc84e651",
   "metadata": {},
   "source": [
    "**Example:**\n"
   ]
  },
  {
   "cell_type": "code",
   "execution_count": 10,
   "id": "1068bb38",
   "metadata": {},
   "outputs": [
    {
     "name": "stdout",
     "output_type": "stream",
     "text": [
      "0\n",
      "1\n",
      "2\n",
      "3\n",
      "4\n",
      "5\n"
     ]
    }
   ],
   "source": [
    "numbers = (0, 1, 2, 3, 4, 5)\n",
    "for number in numbers:\n",
    "    print(number)"
   ]
  },
  {
   "cell_type": "markdown",
   "id": "f05604cf",
   "metadata": {},
   "source": [
    "### While Loops\n",
    "We use the reserved word _while_ to make a while loop. It is used to execute a block of statements repeatedly until a given condition is satisfied. When the condition becomes false, the lines of code after the loop will be continued to be executed.\n",
    "\n",
    "```py\n",
    "  # syntax\n",
    "while condition:\n",
    "    code goes here\n",
    "```"
   ]
  },
  {
   "cell_type": "markdown",
   "id": "f577619c",
   "metadata": {},
   "source": [
    "**Example:**"
   ]
  },
  {
   "cell_type": "code",
   "execution_count": 12,
   "id": "d9c58ee9",
   "metadata": {},
   "outputs": [
    {
     "name": "stdout",
     "output_type": "stream",
     "text": [
      "0\n",
      "1\n",
      "2\n",
      "3\n",
      "4\n"
     ]
    }
   ],
   "source": [
    "count = 0\n",
    "while count < 5:\n",
    "    print(count)\n",
    "    count = count + 1\n",
    "#prints from 0 to 4"
   ]
  },
  {
   "cell_type": "markdown",
   "id": "7ed27961",
   "metadata": {},
   "source": [
    "In the above while loop, the condition becomes false when count is 5. That is when the loop stops.\n",
    "If we are interested to run block of code once the condition is no longer true, we can use _else_.\n",
    "\n",
    "```py\n",
    "  # syntax\n",
    "while condition:\n",
    "    code goes here\n",
    "else:\n",
    "    code goes here\n",
    "```"
   ]
  },
  {
   "cell_type": "code",
   "execution_count": 13,
   "id": "d4c82cf9",
   "metadata": {},
   "outputs": [
    {
     "name": "stdout",
     "output_type": "stream",
     "text": [
      "0\n",
      "1\n",
      "2\n",
      "3\n",
      "4\n",
      "5\n"
     ]
    }
   ],
   "source": [
    "count = 0\n",
    "while count < 5:\n",
    "    print(count)\n",
    "    count = count + 1\n",
    "else:\n",
    "    print(count)"
   ]
  },
  {
   "cell_type": "markdown",
   "id": "da085160",
   "metadata": {},
   "source": [
    "## Slicing Strings\n",
    "In Python, we can slice strings into substrings."
   ]
  },
  {
   "cell_type": "code",
   "execution_count": 14,
   "id": "35a42802",
   "metadata": {},
   "outputs": [
    {
     "name": "stdout",
     "output_type": "stream",
     "text": [
      "Pyt\n"
     ]
    }
   ],
   "source": [
    "language = 'Python'\n",
    "first_three = language[0:3] # starts at zero index and up to 3 but not include 3\n",
    "print(first_three) #Pyt"
   ]
  },
  {
   "cell_type": "markdown",
   "id": "95c3a7b1",
   "metadata": {},
   "source": [
    "### Skipping Characters While Slicing\n",
    "It is possible to skip characters while slicing by passing step argument to slice method."
   ]
  },
  {
   "cell_type": "code",
   "execution_count": 15,
   "id": "b4e31016",
   "metadata": {},
   "outputs": [
    {
     "name": "stdout",
     "output_type": "stream",
     "text": [
      "Pto\n"
     ]
    }
   ],
   "source": [
    "language = 'Python'\n",
    "pto = language[0:6:2] # Iterates from 0 to 6, in steps of 2\n",
    "print(pto) # Pto"
   ]
  },
  {
   "cell_type": "markdown",
   "id": "f6251f28",
   "metadata": {},
   "source": [
    "- __Positive Indexing__ : We can specify a range of positive indexes by specifying the start, end and step, the return value will be a new list. (default values for start = 0, end = len(lst) - 1 (last item), step = 1)"
   ]
  },
  {
   "cell_type": "code",
   "execution_count": 17,
   "id": "ae870079",
   "metadata": {},
   "outputs": [],
   "source": [
    "fruits = ['banana', 'orange', 'mango', 'lemon']\n",
    "all_fruits = fruits[0:4] # it returns all the fruits\n",
    "# this will also give the same result as the one above\n",
    "all_fruits = fruits[0:] # if we don't set where to stop it takes all the rest\n",
    "orange_and_mango = fruits[1:3] # it does not include the first index\n",
    "orange_mango_lemon = fruits[1:]\n",
    "orange_and_lemon = fruits[::2] # here we used a 3rd argument, step. It will take every 2cnd item - ['banana', 'mango']"
   ]
  },
  {
   "cell_type": "markdown",
   "id": "00ac76c7",
   "metadata": {},
   "source": [
    "- __Negative Indexing__ : We can specify a range of negative indexes by specifying the start, end and step, the return value will be a new list."
   ]
  },
  {
   "cell_type": "code",
   "execution_count": 18,
   "id": "ec6aa154",
   "metadata": {},
   "outputs": [],
   "source": [
    "fruits = ['banana', 'orange', 'mango', 'lemon']\n",
    "all_fruits = fruits[-4:] # it returns all the fruits\n",
    "orange_and_mango = fruits[-3:-1] # it does not include the last index,['orange', 'mango']\n",
    "orange_mango_lemon = fruits[-3:] # this will give starting from -3 to the end,['orange', 'mango', 'lemon']\n",
    "reverse_fruits = fruits[::-1] # a negative step will take the list in reverse order,['lemon', 'mango', 'orange', 'banana']"
   ]
  },
  {
   "cell_type": "markdown",
   "id": "45a66bd9",
   "metadata": {},
   "source": [
    "[You can learn more about string slicing here](https://www.w3schools.com/python/gloss_python_string_slice.asp)"
   ]
  },
  {
   "cell_type": "markdown",
   "id": "888669b0",
   "metadata": {},
   "source": []
  },
  {
   "cell_type": "markdown",
   "id": "7831f7cb",
   "metadata": {},
   "source": [
    "## Lambda Functions\n",
    "A lambda function is a small anonymous function.\n",
    "\n",
    "A lambda function can take any number of arguments, but can only have one expression.\n",
    "\n",
    "**Examples :**"
   ]
  },
  {
   "cell_type": "code",
   "execution_count": 49,
   "id": "80d9bc9c",
   "metadata": {
    "scrolled": true
   },
   "outputs": [
    {
     "name": "stdout",
     "output_type": "stream",
     "text": [
      "15\n"
     ]
    }
   ],
   "source": [
    "x = lambda a : a + 10\n",
    "print(x(5))"
   ]
  },
  {
   "cell_type": "code",
   "execution_count": 51,
   "id": "a43ae418",
   "metadata": {},
   "outputs": [
    {
     "name": "stdout",
     "output_type": "stream",
     "text": [
      "13\n"
     ]
    }
   ],
   "source": [
    "x = lambda a, b, c : a + b + c\n",
    "print(x(5, 6, 2))"
   ]
  },
  {
   "cell_type": "markdown",
   "id": "78c11df1",
   "metadata": {},
   "source": [
    "## Error Handling\n",
    "\n",
    "Python offers an efficint way to handle errors. This can be done using the `try` , `except` blocks.\n",
    "\n",
    "```py\n",
    "try:\n",
    "  print(x)\n",
    "except:\n",
    "  print(\"An exception occurred\")\n",
    "```"
   ]
  },
  {
   "cell_type": "code",
   "execution_count": 52,
   "id": "c4291cf1",
   "metadata": {},
   "outputs": [
    {
     "name": "stdout",
     "output_type": "stream",
     "text": [
      "Hello\n",
      "Nothing went wrong\n"
     ]
    }
   ],
   "source": [
    "try:\n",
    "  print(\"Hello\")\n",
    "except:\n",
    "  print(\"Something went wrong\")"
   ]
  }
 ],
 "metadata": {
  "kernelspec": {
   "display_name": "Python 3",
   "language": "python",
   "name": "python3"
  },
  "language_info": {
   "codemirror_mode": {
    "name": "ipython",
    "version": 3
   },
   "file_extension": ".py",
   "mimetype": "text/x-python",
   "name": "python",
   "nbconvert_exporter": "python",
   "pygments_lexer": "ipython3",
   "version": "3.8.8"
  }
 },
 "nbformat": 4,
 "nbformat_minor": 5
}
