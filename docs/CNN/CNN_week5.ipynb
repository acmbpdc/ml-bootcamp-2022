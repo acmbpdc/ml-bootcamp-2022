{
  "nbformat": 4,
  "nbformat_minor": 0,
  "metadata": {
    "colab": {
      "name": "CNN_week5.ipynb",
      "provenance": [],
      "collapsed_sections": []
    },
    "kernelspec": {
      "name": "python3",
      "display_name": "Python 3"
    },
    "language_info": {
      "name": "python"
    },
    "accelerator": "GPU"
  },
  "cells": [
    {
      "cell_type": "markdown",
      "source": [
        "# Convolutional Neural Networks (CNNs)\n",
        "---\n",
        " ## What are CNNs?\n",
        "CNN is a special type of neural network which is based on the convolution operation. A generic CNN consists of a fewivation, Flatten, and Dense. It is mainly used for image-based tasks,  types of layers: Conv (convolutional) layer, MaxPooling, Dropout, Actthough they can be used in Audio Clasisfication and Natural Language Processing also. Over the years, a lot of research has been done to invent new architectures that are more optimised and suitable for various tasks, for example: ResNet, YoloV5, Xception, InceptionV3,etc.\n",
        "   ![cnn](https://miro.medium.com/max/470/1*81Y95NKxLzXLEut7nepmZA.png)\n"
      ],
      "metadata": {
        "id": "JCT6uRto6tAI"
      }
    },
    {
      "cell_type": "code",
      "execution_count": null,
      "metadata": {
        "id": "BkfVrwloxVHF"
      },
      "outputs": [],
      "source": [
        "import tensorflow as tf\n",
        "from tensorflow import keras\n",
        "from keras.layers import Conv2D,MaxPooling2D,Flatten,Dense,Input,GlobalMaxPooling2D,GlobalMaxPooling1D\n",
        "from keras.models import Sequential\n",
        "import numpy as np"
      ]
    },
    {
      "cell_type": "markdown",
      "source": [
        "# Popular Libraries \n",
        "There are many libraries and frameworks which are available for implementing Deep Learning tasks, but here are some of the most-loved and popular libraries among the community for Deep Learning:\n",
        "##1. Tensorflow\n",
        "<img src=\"https://cdn-images-1.medium.com/max/1200/1*iDQvKoz7gGHc6YXqvqWWZQ.png\" alt=\"drawing\" width=\"170\"/><br>\n",
        "TensorFlow is a free and open-source software library for machine learning and artificial intelligence. It can be used across a range of tasks but has a particular focus on training and inference of deep neural networks.\n",
        "##2. Pytorch \n",
        "<img src=\"https://miro.medium.com/max/1200/1*4br4WmxNo0jkcsY796jGDQ.jpeg\" alt=\"drawing\" width=\"300\"/><br>\n",
        "PyTorch is an open source machine learning framework based on the Torch library, used for applications such as computer vision and natural language processing, primarily developed by Facebook's AI Research lab.\n",
        "##3. Keras \n",
        "<img src=\"https://keras.io/img/logo-k-keras-wb.png\" alt=\"drawing\" width=\"300\"/><br>\n",
        "Keras is a library (also developed mainly by Google) which uses Tensorflow functions as its base. It has been developed with the purpose of reducing the load on developers while creating deep learning models and it is highly intuitive, allowing for quicker results, faster experimentation and testing of new ideas.\n",
        "\n",
        "In this tutorial we will be using Keras to implement and train our model."
      ],
      "metadata": {
        "id": "g_aksm7GJ-8M"
      }
    },
    {
      "cell_type": "code",
      "source": [
        "## Loading dataset from Google Drive\n",
        "from google.colab import drive\n",
        "drive.mount('/content/gdrive')\n"
      ],
      "metadata": {
        "colab": {
          "base_uri": "https://localhost:8080/"
        },
        "id": "7iE_aS5FxoTQ",
        "outputId": "4d73fc33-0e1d-4625-ea48-e7db485841ef"
      },
      "execution_count": null,
      "outputs": [
        {
          "output_type": "stream",
          "name": "stdout",
          "text": [
            "Mounted at /content/gdrive\n"
          ]
        }
      ]
    },
    {
      "cell_type": "markdown",
      "source": [
        "#Our aim for today \n",
        "* Learn the basic concepts of Convolutional Neural Networks\n",
        "* How to implement them in Keras\n",
        "* Train a CNN model that can differentiate between Cats and Dogs"
      ],
      "metadata": {
        "id": "mxGEU4WiNE6q"
      }
    },
    {
      "cell_type": "code",
      "source": [
        "!nvidia-smi "
      ],
      "metadata": {
        "colab": {
          "base_uri": "https://localhost:8080/"
        },
        "id": "ZgJKhn3cJhW3",
        "outputId": "4bf0560b-da87-4c8b-daf9-6189664dad5a"
      },
      "execution_count": null,
      "outputs": [
        {
          "output_type": "stream",
          "name": "stdout",
          "text": [
            "Wed Apr 13 15:26:08 2022       \n",
            "+-----------------------------------------------------------------------------+\n",
            "| NVIDIA-SMI 460.32.03    Driver Version: 460.32.03    CUDA Version: 11.2     |\n",
            "|-------------------------------+----------------------+----------------------+\n",
            "| GPU  Name        Persistence-M| Bus-Id        Disp.A | Volatile Uncorr. ECC |\n",
            "| Fan  Temp  Perf  Pwr:Usage/Cap|         Memory-Usage | GPU-Util  Compute M. |\n",
            "|                               |                      |               MIG M. |\n",
            "|===============================+======================+======================|\n",
            "|   0  Tesla K80           Off  | 00000000:00:04.0 Off |                    0 |\n",
            "| N/A   70C    P8    34W / 149W |      0MiB / 11441MiB |      0%      Default |\n",
            "|                               |                      |                  N/A |\n",
            "+-------------------------------+----------------------+----------------------+\n",
            "                                                                               \n",
            "+-----------------------------------------------------------------------------+\n",
            "| Processes:                                                                  |\n",
            "|  GPU   GI   CI        PID   Type   Process name                  GPU Memory |\n",
            "|        ID   ID                                                   Usage      |\n",
            "|=============================================================================|\n",
            "|  No running processes found                                                 |\n",
            "+-----------------------------------------------------------------------------+\n"
          ]
        }
      ]
    },
    {
      "cell_type": "markdown",
      "source": [
        "#Dataset source:\n",
        "We will be using a dataset provided on Kaggle for our model. It has been uploaded to Google drive, and then accessed via Colab notebooks.\n",
        "https://www.kaggle.com/c/dogs-vs-cats \n",
        "\n",
        "\n",
        "![catsvsdogs](https://storage.googleapis.com/kaggle-competitions/kaggle/3362/media/woof_meow.jpg)"
      ],
      "metadata": {
        "id": "EhBJvOLsNvrl"
      }
    },
    {
      "cell_type": "code",
      "source": [
        "!mkdir CatsnDogs\n"
      ],
      "metadata": {
        "colab": {
          "base_uri": "https://localhost:8080/"
        },
        "id": "sIexh5OR4kvG",
        "outputId": "2ca01b13-54fc-41c7-ae8d-e546b5200a2a"
      },
      "execution_count": null,
      "outputs": [
        {
          "output_type": "stream",
          "name": "stdout",
          "text": [
            "/content\n"
          ]
        }
      ]
    },
    {
      "cell_type": "markdown",
      "source": [
        "A few commands to extract and organize our data:"
      ],
      "metadata": {
        "id": "v_rAklVhO0s9"
      }
    },
    {
      "cell_type": "code",
      "source": [
        "!unzip ./gdrive/MyDrive/cats_n_dogs/dogs-vs-cats.zip -d ./CatsnDogs\n"
      ],
      "metadata": {
        "colab": {
          "base_uri": "https://localhost:8080/"
        },
        "id": "PhLbSbPl41nx",
        "outputId": "6f87341e-a647-4a25-9551-cf0564849329"
      },
      "execution_count": null,
      "outputs": [
        {
          "output_type": "stream",
          "name": "stdout",
          "text": [
            "Archive:  ./gdrive/MyDrive/cats_n_dogs/dogs-vs-cats.zip\n",
            "  inflating: ./CatsnDogs/sampleSubmission.csv  \n",
            "  inflating: ./CatsnDogs/test1.zip   \n",
            "  inflating: ./CatsnDogs/train.zip   \n"
          ]
        }
      ]
    },
    {
      "cell_type": "code",
      "source": [
        "!unzip ./CatsnDogs/test1.zip \n"
      ],
      "metadata": {
        "id": "goJIjW7JOlWr"
      },
      "execution_count": null,
      "outputs": []
    },
    {
      "cell_type": "code",
      "source": [
        "!unzip ./CatsnDogs/train.zip -d ./train"
      ],
      "metadata": {
        "id": "YkctiMWW5p0h"
      },
      "execution_count": null,
      "outputs": []
    },
    {
      "cell_type": "code",
      "source": [
        "!mkdir ./train/dog/"
      ],
      "metadata": {
        "id": "yGR24qmpD96g"
      },
      "execution_count": null,
      "outputs": []
    },
    {
      "cell_type": "code",
      "source": [
        "!mkdir ./train/cat/ "
      ],
      "metadata": {
        "id": "1mS9LuZzD6fw"
      },
      "execution_count": null,
      "outputs": []
    },
    {
      "cell_type": "markdown",
      "source": [
        "Function to extract Cat and Dog images and place them in different directories to prepare for training"
      ],
      "metadata": {
        "id": "myBtdRLxPCvS"
      }
    },
    {
      "cell_type": "code",
      "source": [
        "import os \n",
        "import shutil\n",
        "for f in os.listdir(\"./train/train/\"):\n",
        "    name = os.path.basename(f)\n",
        "    if \"cat\" in name: \n",
        "      shutil.move(\"./train/train/\"+str(f),\"./train/cat/\")\n",
        "    else:\n",
        "      shutil.move(\"./train/train/\"+str(f),\"./train/dog/\")"
      ],
      "metadata": {
        "id": "Ve4d1FtCXQBL"
      },
      "execution_count": null,
      "outputs": []
    },
    {
      "cell_type": "markdown",
      "source": [
        "Now that we've extracted the images, we dont need the previous directory anymore, so removing it using `rm` command"
      ],
      "metadata": {
        "id": "W45xqlaNPUPc"
      }
    },
    {
      "cell_type": "code",
      "source": [
        "!rm -r ./train/train"
      ],
      "metadata": {
        "id": "FxmFWl9sdnOF"
      },
      "execution_count": null,
      "outputs": []
    },
    {
      "cell_type": "code",
      "source": [
        "train_data = tf.keras.preprocessing.image_dataset_from_directory(\"./train/\",labels=\"inferred\" ,label_mode=\"categorical\",shuffle=True,validation_split=0.2,subset=\"training\",seed=1,image_size=(224,224) )\n",
        "val_data = tf.keras.preprocessing.image_dataset_from_directory(\"./train/\",labels=\"inferred\",label_mode=\"categorical\",shuffle=True,validation_split=0.2,subset=\"validation\",seed=1,image_size=(224,224) )"
      ],
      "metadata": {
        "colab": {
          "base_uri": "https://localhost:8080/"
        },
        "id": "gWuI1C4PEALk",
        "outputId": "17755d20-bac3-4258-fb40-76c6d1b150e5"
      },
      "execution_count": null,
      "outputs": [
        {
          "output_type": "stream",
          "name": "stdout",
          "text": [
            "Found 25000 files belonging to 2 classes.\n",
            "Using 20000 files for training.\n",
            "Found 25000 files belonging to 2 classes.\n",
            "Using 5000 files for validation.\n"
          ]
        }
      ]
    },
    {
      "cell_type": "code",
      "source": [
        "model =Sequential()\n",
        "model.add(keras.Input(shape=(224,224,3)))"
      ],
      "metadata": {
        "id": "SV7pEIaRJgUR"
      },
      "execution_count": null,
      "outputs": []
    },
    {
      "cell_type": "markdown",
      "source": [
        "## What are the different layers in a CNN?\n",
        "* <h3>Conv (Convolutional) layer:</h3>\n",
        "<br>\n",
        "<img src=\"https://miro.medium.com/max/790/1*1VJDP6qDY9-ExTuQVEOlVg.gif\" alt=\"drawing\" width=\"300\"/><br>\n",
        "The objective of the Convolution Operation is to extract the high-level features such as edges, from the input image. ConvNets need not be limited to only one Convolutional Layer. Conventionally, the first ConvLayer is responsible for capturing the Low-Level features such as edges, color, gradient orientation, etc. With added layers, the architecture adapts to the High-Level features as well, giving us a network which has the wholesome understanding of images in the dataset, similar to how we would.\n",
        "The Convolution operation here is represented by the Conv2D function in Keras, which we had imported in the beginning.\n"
      ],
      "metadata": {
        "id": "7RS9pWuPJZ_G"
      }
    },
    {
      "cell_type": "code",
      "source": [
        "model.add(Conv2D(32, 5, activation=\"relu\"))\n",
        "model.add(Conv2D(32, 3, activation=\"relu\"))"
      ],
      "metadata": {
        "id": "MuFKtwcaFm-k"
      },
      "execution_count": null,
      "outputs": []
    },
    {
      "cell_type": "markdown",
      "source": [
        "* <h3>Max Pooling(MaxPool) Layer:</h3>\n",
        "<br>\n",
        "<img src=\"https://miro.medium.com/max/792/1*uoWYsCV5vBU8SHFPAPao-w.gif\" alt=\"drawing\" width=\"300\"/><br>\n",
        "Similar to the Convolutional Layer, the Pooling layer is responsible for reducing the spatial size of the Convolved Feature. This is to decrease the computational power required to process the data through dimensionality reduction. Furthermore, it is useful for extracting dominant features which are rotational and positional invariant, thus maintaining the process of effectively training of the model.<br>\n",
        "There are two types of Pooling: Max Pooling and Average Pooling. Max Pooling returns the maximum value from the portion of the image covered by the Kernel. On the other hand, Average Pooling returns the average of all the values from the portion of the image covered by the Kernel<br>\n",
        "This is represented by the MaxPooling2D function, which we had imported earlier.\n"
      ],
      "metadata": {
        "id": "40A0tpGUSjFd"
      }
    },
    {
      "cell_type": "code",
      "source": [
        "model.add(MaxPooling2D(3))\n",
        "model.add(Conv2D(32, 3, activation=\"relu\"))\n",
        "model.add(Conv2D(32, 3, activation=\"relu\"))\n",
        "model.add(MaxPooling2D(3))\n",
        "model.add(Conv2D(32, 3, activation=\"relu\"))\n",
        "model.add(Conv2D(32, 3, activation=\"relu\"))\n",
        "model.add(MaxPooling2D(3))\n"
      ],
      "metadata": {
        "id": "mWWuEwZSShfx"
      },
      "execution_count": null,
      "outputs": []
    },
    {
      "cell_type": "markdown",
      "source": [
        "* <h3>Fully Connected (FC or Dense) Layer:</h3>\n",
        "<br>\n",
        "<img src=\"https://miro.medium.com/max/1400/1*kToStLowjokojIQ7pY2ynQ.jpeg\" alt=\"drawing\" width=\"600\"/><br>\n",
        "\n",
        "Adding a Fully-Connected layer is a (usually) cheap way of learning non-linear combinations of the high-level features as represented by the output of the convolutional layer. The Fully-Connected layer is learning a possibly non-linear function in that space.\n",
        "\n",
        "Now that we have converted our input image into a suitable form for our Multi-Level Perceptron, we shall flatten the image into a column vector. \n",
        "The flattened output is fed to a feed-forward neural network and backpropagation applied to every iteration of training. \n",
        "\n",
        "Over a series of epochs, the model is able to distinguish between dominating and certain low-level features in images and classify them using the Softmax Classification technique.\n",
        "\n",
        "We have used the `Flatten()` and `Dense()` functions to implement this as imported earlier.\n"
      ],
      "metadata": {
        "id": "vjmVj04qXFbQ"
      }
    },
    {
      "cell_type": "code",
      "source": [
        "model.add(Flatten())\n",
        "model.add(Dense(10))\n",
        "model.add(Dense(2))"
      ],
      "metadata": {
        "id": "9JMk8ldqW7yh"
      },
      "execution_count": null,
      "outputs": []
    },
    {
      "cell_type": "markdown",
      "source": [
        "##Our model so far"
      ],
      "metadata": {
        "id": "EBvjAslkXrMb"
      }
    },
    {
      "cell_type": "code",
      "source": [
        "model.summary()"
      ],
      "metadata": {
        "colab": {
          "base_uri": "https://localhost:8080/"
        },
        "id": "ovFWm3qp4lfE",
        "outputId": "35785198-2e4e-4f2f-f820-7ba04f3c7c12"
      },
      "execution_count": null,
      "outputs": [
        {
          "output_type": "stream",
          "name": "stdout",
          "text": [
            "Model: \"sequential_2\"\n",
            "_________________________________________________________________\n",
            " Layer (type)                Output Shape              Param #   \n",
            "=================================================================\n",
            " conv2d_12 (Conv2D)          (None, 110, 110, 32)      2432      \n",
            "                                                                 \n",
            " conv2d_13 (Conv2D)          (None, 108, 108, 32)      9248      \n",
            "                                                                 \n",
            " max_pooling2d_6 (MaxPooling  (None, 36, 36, 32)       0         \n",
            " 2D)                                                             \n",
            "                                                                 \n",
            " conv2d_14 (Conv2D)          (None, 34, 34, 32)        9248      \n",
            "                                                                 \n",
            " conv2d_15 (Conv2D)          (None, 32, 32, 32)        9248      \n",
            "                                                                 \n",
            " max_pooling2d_7 (MaxPooling  (None, 10, 10, 32)       0         \n",
            " 2D)                                                             \n",
            "                                                                 \n",
            " conv2d_16 (Conv2D)          (None, 8, 8, 32)          9248      \n",
            "                                                                 \n",
            " conv2d_17 (Conv2D)          (None, 6, 6, 32)          9248      \n",
            "                                                                 \n",
            " max_pooling2d_8 (MaxPooling  (None, 3, 3, 32)         0         \n",
            " 2D)                                                             \n",
            "                                                                 \n",
            " flatten_2 (Flatten)         (None, 288)               0         \n",
            "                                                                 \n",
            " dense_4 (Dense)             (None, 10)                2890      \n",
            "                                                                 \n",
            " dense_5 (Dense)             (None, 2)                 22        \n",
            "                                                                 \n",
            "=================================================================\n",
            "Total params: 51,584\n",
            "Trainable params: 51,584\n",
            "Non-trainable params: 0\n",
            "_________________________________________________________________\n"
          ]
        }
      ]
    },
    {
      "cell_type": "markdown",
      "source": [
        "## Now it's time to train our model!"
      ],
      "metadata": {
        "id": "JlSyJ-LZX0bc"
      }
    },
    {
      "cell_type": "code",
      "source": [
        "model.compile(optimizer=\"adam\",loss=tf.keras.losses.CategoricalCrossentropy(from_logits=True),metrics='accuracy')"
      ],
      "metadata": {
        "id": "BaOtioxlWkY3"
      },
      "execution_count": null,
      "outputs": []
    },
    {
      "cell_type": "code",
      "source": [
        "train_data\n"
      ],
      "metadata": {
        "colab": {
          "base_uri": "https://localhost:8080/"
        },
        "id": "oApuOhYvcEnk",
        "outputId": "0dc32a75-d94b-4eb2-90d1-5e8bf98ddb3c"
      },
      "execution_count": null,
      "outputs": [
        {
          "output_type": "execute_result",
          "data": {
            "text/plain": [
              "<BatchDataset element_spec=(TensorSpec(shape=(None, 224, 224, 3), dtype=tf.float32, name=None), TensorSpec(shape=(None, 2), dtype=tf.float32, name=None))>"
            ]
          },
          "metadata": {},
          "execution_count": 32
        }
      ]
    },
    {
      "cell_type": "code",
      "source": [
        "model.fit(train_data,epochs=12,validation_data=val_data)"
      ],
      "metadata": {
        "colab": {
          "base_uri": "https://localhost:8080/"
        },
        "id": "g65dKGVTWvYE",
        "outputId": "4a653c5f-bb3a-4655-9902-a450412a3f32"
      },
      "execution_count": null,
      "outputs": [
        {
          "output_type": "stream",
          "name": "stdout",
          "text": [
            "Epoch 1/12\n",
            "625/625 [==============================] - 56s 85ms/step - loss: 0.7131 - accuracy: 0.5750 - val_loss: 0.6470 - val_accuracy: 0.6362\n",
            "Epoch 2/12\n",
            "625/625 [==============================] - 52s 83ms/step - loss: 0.6077 - accuracy: 0.6694 - val_loss: 0.6093 - val_accuracy: 0.6966\n",
            "Epoch 3/12\n",
            "625/625 [==============================] - 52s 82ms/step - loss: 0.5326 - accuracy: 0.7358 - val_loss: 0.4806 - val_accuracy: 0.7736\n",
            "Epoch 4/12\n",
            "625/625 [==============================] - 52s 82ms/step - loss: 0.4628 - accuracy: 0.7828 - val_loss: 0.4607 - val_accuracy: 0.7908\n",
            "Epoch 5/12\n",
            "625/625 [==============================] - 53s 84ms/step - loss: 0.3964 - accuracy: 0.8199 - val_loss: 0.3643 - val_accuracy: 0.8376\n",
            "Epoch 6/12\n",
            "625/625 [==============================] - 53s 84ms/step - loss: 0.3426 - accuracy: 0.8479 - val_loss: 0.3450 - val_accuracy: 0.8482\n",
            "Epoch 7/12\n",
            "625/625 [==============================] - 51s 81ms/step - loss: 0.3028 - accuracy: 0.8672 - val_loss: 0.3207 - val_accuracy: 0.8592\n",
            "Epoch 8/12\n",
            "625/625 [==============================] - 51s 81ms/step - loss: 0.2707 - accuracy: 0.8842 - val_loss: 0.3200 - val_accuracy: 0.8638\n",
            "Epoch 9/12\n",
            "625/625 [==============================] - 50s 79ms/step - loss: 0.2405 - accuracy: 0.8961 - val_loss: 0.3521 - val_accuracy: 0.8546\n",
            "Epoch 10/12\n",
            "625/625 [==============================] - 49s 79ms/step - loss: 0.2220 - accuracy: 0.9078 - val_loss: 0.4115 - val_accuracy: 0.8478\n",
            "Epoch 11/12\n",
            "625/625 [==============================] - 50s 79ms/step - loss: 0.2042 - accuracy: 0.9119 - val_loss: 0.3117 - val_accuracy: 0.8738\n",
            "Epoch 12/12\n",
            "625/625 [==============================] - 50s 79ms/step - loss: 0.1864 - accuracy: 0.9220 - val_loss: 0.3066 - val_accuracy: 0.8822\n"
          ]
        },
        {
          "output_type": "execute_result",
          "data": {
            "text/plain": [
              "<keras.callbacks.History at 0x7f61a2c4a4d0>"
            ]
          },
          "metadata": {},
          "execution_count": 33
        }
      ]
    },
    {
      "cell_type": "code",
      "source": [
        "test_dir_list= [\"./test1/10000.jpg\",\"./test/test1/10004.jpg\",\"./test/test1/10006.jpg\",\"./test/test1/10018.jpg\",\"./test/test1/1001.jpg\",]"
      ],
      "metadata": {
        "id": "Q5QDgYFEYbwq"
      },
      "execution_count": null,
      "outputs": []
    },
    {
      "cell_type": "code",
      "source": [
        "val_data=val_data.unbatch()\n",
        "val_data[0][:]"
      ],
      "metadata": {
        "id": "yJlj9KDyhlUA",
        "colab": {
          "base_uri": "https://localhost:8080/",
          "height": 182
        },
        "outputId": "31fd3a3b-bcf8-400e-abb5-56309668cfa3"
      },
      "execution_count": null,
      "outputs": [
        {
          "output_type": "error",
          "ename": "TypeError",
          "evalue": "ignored",
          "traceback": [
            "\u001b[0;31m---------------------------------------------------------------------------\u001b[0m",
            "\u001b[0;31mTypeError\u001b[0m                                 Traceback (most recent call last)",
            "\u001b[0;32m<ipython-input-49-e6d398205aaf>\u001b[0m in \u001b[0;36m<module>\u001b[0;34m()\u001b[0m\n\u001b[1;32m      1\u001b[0m \u001b[0mval_data\u001b[0m\u001b[0;34m=\u001b[0m\u001b[0mval_data\u001b[0m\u001b[0;34m.\u001b[0m\u001b[0munbatch\u001b[0m\u001b[0;34m(\u001b[0m\u001b[0;34m)\u001b[0m\u001b[0;34m\u001b[0m\u001b[0;34m\u001b[0m\u001b[0m\n\u001b[0;32m----> 2\u001b[0;31m \u001b[0mval_data\u001b[0m\u001b[0;34m[\u001b[0m\u001b[0;36m0\u001b[0m\u001b[0;34m]\u001b[0m\u001b[0;34m[\u001b[0m\u001b[0;34m:\u001b[0m\u001b[0;34m]\u001b[0m\u001b[0;34m\u001b[0m\u001b[0;34m\u001b[0m\u001b[0m\n\u001b[0m",
            "\u001b[0;31mTypeError\u001b[0m: '_UnbatchDataset' object is not subscriptable"
          ]
        }
      ]
    },
    {
      "cell_type": "markdown",
      "source": [
        "## Looking at a few predictions from the trained model:"
      ],
      "metadata": {
        "id": "RGHhRLY8YGhK"
      }
    },
    {
      "cell_type": "code",
      "source": [
        "import matplotlib.pyplot as plt\n",
        "import matplotlib.image as mpimg\n",
        "from skimage.transform import resize\n",
        "img_path = \"./test1/10015.jpg\"\n",
        "img = mpimg.imread(img_path)\n",
        "img = resize(img,(224,224))\n",
        "imgplot = plt.imshow(img)\n",
        "plt.show()"
      ],
      "metadata": {
        "colab": {
          "base_uri": "https://localhost:8080/",
          "height": 269
        },
        "id": "p0N2_lehhnkv",
        "outputId": "58a288df-1182-4191-aaf4-42402ae1cc76"
      },
      "execution_count": null,
      "outputs": [
        {
          "output_type": "display_data",
          "data": {
            "text/plain": [
              "<Figure size 432x288 with 1 Axes>"
            ],
            "image/png": "[encoded data removed]"
          },
          "metadata": {
            "needs_background": "light"
          }
        }
      ]
    },
    {
      "cell_type": "code",
      "source": [
        "img = np.array(img,dtype=np.float32)\n",
        "img = np.expand_dims(img,axis=0)\n",
        "## Getting the model prediction on test images\n",
        "prediction = model.predict(img)\n",
        "y_prob = prediction.argmax(axis=-1)\n",
        "print(y_prob)\n",
        "# if(prediction[0][0]>prediction[0][1]):\n",
        "#   print(\"This is a dog!\")\n",
        "# else:\n",
        "#   print(\"This is a cat!\")"
      ],
      "metadata": {
        "colab": {
          "base_uri": "https://localhost:8080/"
        },
        "id": "3CFdj9GriYe1",
        "outputId": "1d131c4f-09bd-40c2-f1ba-7c0073937755"
      },
      "execution_count": null,
      "outputs": [
        {
          "output_type": "stream",
          "name": "stdout",
          "text": [
            "[0]\n"
          ]
        }
      ]
    },
    {
      "cell_type": "code",
      "source": [
        "model.save_weights(\"./gdrive/MyDrive/cats_n_dogs\")"
      ],
      "metadata": {
        "id": "uEZo6NfWXGgc"
      },
      "execution_count": null,
      "outputs": []
    },
    {
      "cell_type": "code",
      "source": [
        "model.load_weights(\"./gdrive/MyDrive/cats_n_dogs\")"
      ],
      "metadata": {
        "id": "xpg-nM0-ZniD",
        "colab": {
          "base_uri": "https://localhost:8080/"
        },
        "outputId": "61e51636-894c-4ca2-8bfe-5140fbeaf208"
      },
      "execution_count": null,
      "outputs": [
        {
          "output_type": "execute_result",
          "data": {
            "text/plain": [
              "<tensorflow.python.training.tracking.util.CheckpointLoadStatus at 0x7f61aaf90690>"
            ]
          },
          "metadata": {},
          "execution_count": 5
        }
      ]
    },
    {
      "cell_type": "code",
      "source": [
        ""
      ],
      "metadata": {
        "id": "WNHRs8D9BNXI"
      },
      "execution_count": null,
      "outputs": []
    }
  ]
}